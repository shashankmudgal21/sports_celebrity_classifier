{
 "cells": [
  {
   "cell_type": "code",
   "execution_count": 1,
   "metadata": {},
   "outputs": [],
   "source": [
    "import tensorflow as tf\n",
    "from tensorflow import keras\n",
    "import joblib\n",
    "from sklearn.model_selection import train_test_split\n",
    "import numpy as np\n",
    "import pandas as pd\n",
    "import cv2\n",
    "from server.Wavelet import wavelett_trans\n",
    "from matplotlib import pyplot as plt"
   ]
  },
  {
   "cell_type": "code",
   "execution_count": 2,
   "metadata": {},
   "outputs": [],
   "source": [
    "celeb_folders = joblib.load('celeb_folders')"
   ]
  },
  {
   "cell_type": "code",
   "execution_count": 3,
   "metadata": {},
   "outputs": [
    {
     "data": {
      "text/plain": [
       "{'ben_afflek': ['./Cropped Images/ben_afflek/ben_afflek1.jpg',\n",
       "  './Cropped Images/ben_afflek/ben_afflek2.jpg',\n",
       "  './Cropped Images/ben_afflek/ben_afflek3.jpg',\n",
       "  './Cropped Images/ben_afflek/ben_afflek4.jpg',\n",
       "  './Cropped Images/ben_afflek/ben_afflek5.jpg',\n",
       "  './Cropped Images/ben_afflek/ben_afflek6.jpg',\n",
       "  './Cropped Images/ben_afflek/ben_afflek7.jpg'],\n",
       " 'jerry_seinfeld': ['./Cropped Images/jerry_seinfeld/jerry_seinfeld1.jpg',\n",
       "  './Cropped Images/jerry_seinfeld/jerry_seinfeld2.jpg',\n",
       "  './Cropped Images/jerry_seinfeld/jerry_seinfeld3.jpg',\n",
       "  './Cropped Images/jerry_seinfeld/jerry_seinfeld4.jpg',\n",
       "  './Cropped Images/jerry_seinfeld/jerry_seinfeld5.jpg',\n",
       "  './Cropped Images/jerry_seinfeld/jerry_seinfeld6.jpg',\n",
       "  './Cropped Images/jerry_seinfeld/jerry_seinfeld7.jpg',\n",
       "  './Cropped Images/jerry_seinfeld/jerry_seinfeld8.jpg',\n",
       "  './Cropped Images/jerry_seinfeld/jerry_seinfeld9.jpg',\n",
       "  './Cropped Images/jerry_seinfeld/jerry_seinfeld10.jpg',\n",
       "  './Cropped Images/jerry_seinfeld/jerry_seinfeld11.jpg',\n",
       "  './Cropped Images/jerry_seinfeld/jerry_seinfeld12.jpg',\n",
       "  './Cropped Images/jerry_seinfeld/jerry_seinfeld13.jpg',\n",
       "  './Cropped Images/jerry_seinfeld/jerry_seinfeld14.jpg',\n",
       "  './Cropped Images/jerry_seinfeld/jerry_seinfeld15.jpg',\n",
       "  './Cropped Images/jerry_seinfeld/jerry_seinfeld16.jpg',\n",
       "  './Cropped Images/jerry_seinfeld/jerry_seinfeld17.jpg',\n",
       "  './Cropped Images/jerry_seinfeld/jerry_seinfeld18.jpg'],\n",
       " 'lionel_messi': ['./Cropped Images/lionel_messi/lionel_messi1.jpg',\n",
       "  './Cropped Images/lionel_messi/lionel_messi2.jpg',\n",
       "  './Cropped Images/lionel_messi/lionel_messi3.jpg',\n",
       "  './Cropped Images/lionel_messi/lionel_messi4.jpg',\n",
       "  './Cropped Images/lionel_messi/lionel_messi5.jpg',\n",
       "  './Cropped Images/lionel_messi/lionel_messi6.jpg',\n",
       "  './Cropped Images/lionel_messi/lionel_messi7.jpg',\n",
       "  './Cropped Images/lionel_messi/lionel_messi8.jpg',\n",
       "  './Cropped Images/lionel_messi/lionel_messi9.jpg',\n",
       "  './Cropped Images/lionel_messi/lionel_messi10.jpg',\n",
       "  './Cropped Images/lionel_messi/lionel_messi11.jpg',\n",
       "  './Cropped Images/lionel_messi/lionel_messi12.jpg',\n",
       "  './Cropped Images/lionel_messi/lionel_messi13.jpg',\n",
       "  './Cropped Images/lionel_messi/lionel_messi14.jpg',\n",
       "  './Cropped Images/lionel_messi/lionel_messi15.jpg',\n",
       "  './Cropped Images/lionel_messi/lionel_messi16.jpg',\n",
       "  './Cropped Images/lionel_messi/lionel_messi17.jpg',\n",
       "  './Cropped Images/lionel_messi/lionel_messi18.jpg',\n",
       "  './Cropped Images/lionel_messi/lionel_messi19.jpg',\n",
       "  './Cropped Images/lionel_messi/lionel_messi20.jpg',\n",
       "  './Cropped Images/lionel_messi/lionel_messi21.jpg',\n",
       "  './Cropped Images/lionel_messi/lionel_messi22.jpg',\n",
       "  './Cropped Images/lionel_messi/lionel_messi23.jpg',\n",
       "  './Cropped Images/lionel_messi/lionel_messi24.jpg',\n",
       "  './Cropped Images/lionel_messi/lionel_messi25.jpg',\n",
       "  './Cropped Images/lionel_messi/lionel_messi26.jpg',\n",
       "  './Cropped Images/lionel_messi/lionel_messi27.jpg',\n",
       "  './Cropped Images/lionel_messi/lionel_messi28.jpg',\n",
       "  './Cropped Images/lionel_messi/lionel_messi29.jpg',\n",
       "  './Cropped Images/lionel_messi/lionel_messi30.jpg',\n",
       "  './Cropped Images/lionel_messi/lionel_messi31.jpg',\n",
       "  './Cropped Images/lionel_messi/lionel_messi32.jpg',\n",
       "  './Cropped Images/lionel_messi/lionel_messi33.jpg',\n",
       "  './Cropped Images/lionel_messi/lionel_messi34.jpg',\n",
       "  './Cropped Images/lionel_messi/lionel_messi35.jpg',\n",
       "  './Cropped Images/lionel_messi/lionel_messi36.jpg',\n",
       "  './Cropped Images/lionel_messi/lionel_messi37.jpg',\n",
       "  './Cropped Images/lionel_messi/lionel_messi38.jpg',\n",
       "  './Cropped Images/lionel_messi/lionel_messi39.jpg'],\n",
       " 'madonna': ['./Cropped Images/madonna/madonna1.jpg',\n",
       "  './Cropped Images/madonna/madonna2.jpg',\n",
       "  './Cropped Images/madonna/madonna3.jpg',\n",
       "  './Cropped Images/madonna/madonna4.jpg',\n",
       "  './Cropped Images/madonna/madonna5.jpg',\n",
       "  './Cropped Images/madonna/madonna6.jpg',\n",
       "  './Cropped Images/madonna/madonna7.jpg',\n",
       "  './Cropped Images/madonna/madonna8.jpg',\n",
       "  './Cropped Images/madonna/madonna9.jpg',\n",
       "  './Cropped Images/madonna/madonna10.jpg',\n",
       "  './Cropped Images/madonna/madonna11.jpg'],\n",
       " 'maria_sharapova': ['./Cropped Images/maria_sharapova/maria_sharapova1.jpg',\n",
       "  './Cropped Images/maria_sharapova/maria_sharapova2.jpg',\n",
       "  './Cropped Images/maria_sharapova/maria_sharapova3.jpg',\n",
       "  './Cropped Images/maria_sharapova/maria_sharapova4.jpg',\n",
       "  './Cropped Images/maria_sharapova/maria_sharapova5.jpg',\n",
       "  './Cropped Images/maria_sharapova/maria_sharapova6.jpg',\n",
       "  './Cropped Images/maria_sharapova/maria_sharapova7.jpg',\n",
       "  './Cropped Images/maria_sharapova/maria_sharapova8.jpg',\n",
       "  './Cropped Images/maria_sharapova/maria_sharapova9.jpg',\n",
       "  './Cropped Images/maria_sharapova/maria_sharapova10.jpg',\n",
       "  './Cropped Images/maria_sharapova/maria_sharapova11.jpg',\n",
       "  './Cropped Images/maria_sharapova/maria_sharapova12.jpg',\n",
       "  './Cropped Images/maria_sharapova/maria_sharapova13.jpg',\n",
       "  './Cropped Images/maria_sharapova/maria_sharapova14.jpg',\n",
       "  './Cropped Images/maria_sharapova/maria_sharapova15.jpg',\n",
       "  './Cropped Images/maria_sharapova/maria_sharapova16.jpg',\n",
       "  './Cropped Images/maria_sharapova/maria_sharapova17.jpg',\n",
       "  './Cropped Images/maria_sharapova/maria_sharapova18.jpg',\n",
       "  './Cropped Images/maria_sharapova/maria_sharapova19.jpg',\n",
       "  './Cropped Images/maria_sharapova/maria_sharapova20.jpg',\n",
       "  './Cropped Images/maria_sharapova/maria_sharapova21.jpg',\n",
       "  './Cropped Images/maria_sharapova/maria_sharapova22.jpg',\n",
       "  './Cropped Images/maria_sharapova/maria_sharapova23.jpg',\n",
       "  './Cropped Images/maria_sharapova/maria_sharapova24.jpg',\n",
       "  './Cropped Images/maria_sharapova/maria_sharapova25.jpg',\n",
       "  './Cropped Images/maria_sharapova/maria_sharapova26.jpg',\n",
       "  './Cropped Images/maria_sharapova/maria_sharapova27.jpg',\n",
       "  './Cropped Images/maria_sharapova/maria_sharapova28.jpg',\n",
       "  './Cropped Images/maria_sharapova/maria_sharapova29.jpg',\n",
       "  './Cropped Images/maria_sharapova/maria_sharapova30.jpg',\n",
       "  './Cropped Images/maria_sharapova/maria_sharapova31.jpg',\n",
       "  './Cropped Images/maria_sharapova/maria_sharapova32.jpg',\n",
       "  './Cropped Images/maria_sharapova/maria_sharapova33.jpg',\n",
       "  './Cropped Images/maria_sharapova/maria_sharapova34.jpg',\n",
       "  './Cropped Images/maria_sharapova/maria_sharapova35.jpg',\n",
       "  './Cropped Images/maria_sharapova/maria_sharapova36.jpg',\n",
       "  './Cropped Images/maria_sharapova/maria_sharapova37.jpg'],\n",
       " 'mindy_kaling': ['./Cropped Images/mindy_kaling/mindy_kaling1.jpg',\n",
       "  './Cropped Images/mindy_kaling/mindy_kaling2.jpg',\n",
       "  './Cropped Images/mindy_kaling/mindy_kaling3.jpg',\n",
       "  './Cropped Images/mindy_kaling/mindy_kaling4.jpg',\n",
       "  './Cropped Images/mindy_kaling/mindy_kaling5.jpg',\n",
       "  './Cropped Images/mindy_kaling/mindy_kaling6.jpg',\n",
       "  './Cropped Images/mindy_kaling/mindy_kaling7.jpg',\n",
       "  './Cropped Images/mindy_kaling/mindy_kaling8.jpg',\n",
       "  './Cropped Images/mindy_kaling/mindy_kaling9.jpg',\n",
       "  './Cropped Images/mindy_kaling/mindy_kaling10.jpg',\n",
       "  './Cropped Images/mindy_kaling/mindy_kaling11.jpg',\n",
       "  './Cropped Images/mindy_kaling/mindy_kaling12.jpg',\n",
       "  './Cropped Images/mindy_kaling/mindy_kaling13.jpg',\n",
       "  './Cropped Images/mindy_kaling/mindy_kaling14.jpg',\n",
       "  './Cropped Images/mindy_kaling/mindy_kaling15.jpg',\n",
       "  './Cropped Images/mindy_kaling/mindy_kaling16.jpg',\n",
       "  './Cropped Images/mindy_kaling/mindy_kaling17.jpg',\n",
       "  './Cropped Images/mindy_kaling/mindy_kaling18.jpg',\n",
       "  './Cropped Images/mindy_kaling/mindy_kaling19.jpg'],\n",
       " 'roger_federer': ['./Cropped Images/roger_federer/roger_federer1.jpg',\n",
       "  './Cropped Images/roger_federer/roger_federer2.jpg',\n",
       "  './Cropped Images/roger_federer/roger_federer3.jpg',\n",
       "  './Cropped Images/roger_federer/roger_federer4.jpg',\n",
       "  './Cropped Images/roger_federer/roger_federer5.jpg',\n",
       "  './Cropped Images/roger_federer/roger_federer6.jpg',\n",
       "  './Cropped Images/roger_federer/roger_federer7.jpg',\n",
       "  './Cropped Images/roger_federer/roger_federer8.jpg',\n",
       "  './Cropped Images/roger_federer/roger_federer9.jpg',\n",
       "  './Cropped Images/roger_federer/roger_federer10.jpg',\n",
       "  './Cropped Images/roger_federer/roger_federer11.jpg',\n",
       "  './Cropped Images/roger_federer/roger_federer12.jpg',\n",
       "  './Cropped Images/roger_federer/roger_federer13.jpg',\n",
       "  './Cropped Images/roger_federer/roger_federer14.jpg',\n",
       "  './Cropped Images/roger_federer/roger_federer15.jpg',\n",
       "  './Cropped Images/roger_federer/roger_federer16.jpg',\n",
       "  './Cropped Images/roger_federer/roger_federer17.jpg',\n",
       "  './Cropped Images/roger_federer/roger_federer18.jpg',\n",
       "  './Cropped Images/roger_federer/roger_federer19.jpg',\n",
       "  './Cropped Images/roger_federer/roger_federer20.jpg',\n",
       "  './Cropped Images/roger_federer/roger_federer21.jpg',\n",
       "  './Cropped Images/roger_federer/roger_federer22.jpg',\n",
       "  './Cropped Images/roger_federer/roger_federer23.jpg',\n",
       "  './Cropped Images/roger_federer/roger_federer24.jpg',\n",
       "  './Cropped Images/roger_federer/roger_federer25.jpg',\n",
       "  './Cropped Images/roger_federer/roger_federer26.jpg',\n",
       "  './Cropped Images/roger_federer/roger_federer27.jpg',\n",
       "  './Cropped Images/roger_federer/roger_federer28.jpg',\n",
       "  './Cropped Images/roger_federer/roger_federer29.jpg',\n",
       "  './Cropped Images/roger_federer/roger_federer30.jpg'],\n",
       " 'serena_williams': ['./Cropped Images/serena_williams/serena_williams1.jpg',\n",
       "  './Cropped Images/serena_williams/serena_williams2.jpg',\n",
       "  './Cropped Images/serena_williams/serena_williams3.jpg',\n",
       "  './Cropped Images/serena_williams/serena_williams4.jpg',\n",
       "  './Cropped Images/serena_williams/serena_williams5.jpg',\n",
       "  './Cropped Images/serena_williams/serena_williams6.jpg',\n",
       "  './Cropped Images/serena_williams/serena_williams7.jpg',\n",
       "  './Cropped Images/serena_williams/serena_williams8.jpg',\n",
       "  './Cropped Images/serena_williams/serena_williams9.jpg',\n",
       "  './Cropped Images/serena_williams/serena_williams10.jpg',\n",
       "  './Cropped Images/serena_williams/serena_williams11.jpg',\n",
       "  './Cropped Images/serena_williams/serena_williams12.jpg',\n",
       "  './Cropped Images/serena_williams/serena_williams13.jpg',\n",
       "  './Cropped Images/serena_williams/serena_williams14.jpg',\n",
       "  './Cropped Images/serena_williams/serena_williams15.jpg',\n",
       "  './Cropped Images/serena_williams/serena_williams16.jpg',\n",
       "  './Cropped Images/serena_williams/serena_williams17.jpg',\n",
       "  './Cropped Images/serena_williams/serena_williams18.jpg',\n",
       "  './Cropped Images/serena_williams/serena_williams19.jpg',\n",
       "  './Cropped Images/serena_williams/serena_williams20.jpg',\n",
       "  './Cropped Images/serena_williams/serena_williams21.jpg',\n",
       "  './Cropped Images/serena_williams/serena_williams22.jpg',\n",
       "  './Cropped Images/serena_williams/serena_williams23.jpg',\n",
       "  './Cropped Images/serena_williams/serena_williams24.jpg',\n",
       "  './Cropped Images/serena_williams/serena_williams25.jpg',\n",
       "  './Cropped Images/serena_williams/serena_williams26.jpg',\n",
       "  './Cropped Images/serena_williams/serena_williams27.jpg',\n",
       "  './Cropped Images/serena_williams/serena_williams28.jpg',\n",
       "  './Cropped Images/serena_williams/serena_williams29.jpg',\n",
       "  './Cropped Images/serena_williams/serena_williams30.jpg',\n",
       "  './Cropped Images/serena_williams/serena_williams31.jpg',\n",
       "  './Cropped Images/serena_williams/serena_williams32.jpg',\n",
       "  './Cropped Images/serena_williams/serena_williams33.jpg',\n",
       "  './Cropped Images/serena_williams/serena_williams34.jpg',\n",
       "  './Cropped Images/serena_williams/serena_williams35.jpg',\n",
       "  './Cropped Images/serena_williams/serena_williams36.jpg'],\n",
       " 'virat_kohli': ['./Cropped Images/virat_kohli/virat_kohli1.jpg',\n",
       "  './Cropped Images/virat_kohli/virat_kohli2.jpg',\n",
       "  './Cropped Images/virat_kohli/virat_kohli3.jpg',\n",
       "  './Cropped Images/virat_kohli/virat_kohli4.jpg',\n",
       "  './Cropped Images/virat_kohli/virat_kohli5.jpg',\n",
       "  './Cropped Images/virat_kohli/virat_kohli6.jpg',\n",
       "  './Cropped Images/virat_kohli/virat_kohli7.jpg',\n",
       "  './Cropped Images/virat_kohli/virat_kohli8.jpg',\n",
       "  './Cropped Images/virat_kohli/virat_kohli9.jpg',\n",
       "  './Cropped Images/virat_kohli/virat_kohli10.jpg',\n",
       "  './Cropped Images/virat_kohli/virat_kohli11.jpg',\n",
       "  './Cropped Images/virat_kohli/virat_kohli12.jpg',\n",
       "  './Cropped Images/virat_kohli/virat_kohli13.jpg',\n",
       "  './Cropped Images/virat_kohli/virat_kohli14.jpg',\n",
       "  './Cropped Images/virat_kohli/virat_kohli15.jpg',\n",
       "  './Cropped Images/virat_kohli/virat_kohli16.jpg',\n",
       "  './Cropped Images/virat_kohli/virat_kohli17.jpg',\n",
       "  './Cropped Images/virat_kohli/virat_kohli18.jpg',\n",
       "  './Cropped Images/virat_kohli/virat_kohli19.jpg',\n",
       "  './Cropped Images/virat_kohli/virat_kohli20.jpg',\n",
       "  './Cropped Images/virat_kohli/virat_kohli21.jpg',\n",
       "  './Cropped Images/virat_kohli/virat_kohli22.jpg',\n",
       "  './Cropped Images/virat_kohli/virat_kohli23.jpg',\n",
       "  './Cropped Images/virat_kohli/virat_kohli24.jpg',\n",
       "  './Cropped Images/virat_kohli/virat_kohli25.jpg',\n",
       "  './Cropped Images/virat_kohli/virat_kohli26.jpg',\n",
       "  './Cropped Images/virat_kohli/virat_kohli27.jpg',\n",
       "  './Cropped Images/virat_kohli/virat_kohli28.jpg',\n",
       "  './Cropped Images/virat_kohli/virat_kohli29.jpg',\n",
       "  './Cropped Images/virat_kohli/virat_kohli30.jpg',\n",
       "  './Cropped Images/virat_kohli/virat_kohli31.jpg',\n",
       "  './Cropped Images/virat_kohli/virat_kohli32.jpg',\n",
       "  './Cropped Images/virat_kohli/virat_kohli33.jpg',\n",
       "  './Cropped Images/virat_kohli/virat_kohli34.jpg',\n",
       "  './Cropped Images/virat_kohli/virat_kohli35.jpg',\n",
       "  './Cropped Images/virat_kohli/virat_kohli36.jpg',\n",
       "  './Cropped Images/virat_kohli/virat_kohli37.jpg',\n",
       "  './Cropped Images/virat_kohli/virat_kohli38.jpg',\n",
       "  './Cropped Images/virat_kohli/virat_kohli39.jpg',\n",
       "  './Cropped Images/virat_kohli/virat_kohli40.jpg',\n",
       "  './Cropped Images/virat_kohli/virat_kohli41.jpg',\n",
       "  './Cropped Images/virat_kohli/virat_kohli42.jpg',\n",
       "  './Cropped Images/virat_kohli/virat_kohli43.jpg',\n",
       "  './Cropped Images/virat_kohli/virat_kohli44.jpg',\n",
       "  './Cropped Images/virat_kohli/virat_kohli45.jpg',\n",
       "  './Cropped Images/virat_kohli/virat_kohli46.jpg',\n",
       "  './Cropped Images/virat_kohli/virat_kohli47.jpg',\n",
       "  './Cropped Images/virat_kohli/virat_kohli48.jpg',\n",
       "  './Cropped Images/virat_kohli/virat_kohli49.jpg']}"
      ]
     },
     "execution_count": 3,
     "metadata": {},
     "output_type": "execute_result"
    }
   ],
   "source": [
    "celeb_folders"
   ]
  },
  {
   "cell_type": "code",
   "execution_count": 4,
   "metadata": {},
   "outputs": [
    {
     "data": {
      "text/plain": [
       "{'ben_afflek': 0,\n",
       " 'jerry_seinfeld': 1,\n",
       " 'lionel_messi': 2,\n",
       " 'madonna': 3,\n",
       " 'maria_sharapova': 4,\n",
       " 'mindy_kaling': 5,\n",
       " 'roger_federer': 6,\n",
       " 'serena_williams': 7,\n",
       " 'virat_kohli': 8}"
      ]
     },
     "execution_count": 4,
     "metadata": {},
     "output_type": "execute_result"
    }
   ],
   "source": [
    "encode_celeb = {}\n",
    "c = 0\n",
    "\n",
    "for name in celeb_folders:\n",
    "    encode_celeb[name] = c\n",
    "    c += 1\n",
    "encode_celeb"
   ]
  },
  {
   "cell_type": "code",
   "execution_count": 5,
   "metadata": {},
   "outputs": [],
   "source": [
    "X = []\n",
    "Y = []\n",
    "for celeb, path in celeb_folders.items():\n",
    "    if not path:\n",
    "        continue\n",
    "    for train_data in path:\n",
    "        img_train = cv2.imread(train_data)\n",
    "        if img_train is None:\n",
    "            continue\n",
    "        scaled_raw_img = cv2.resize(img_train, (32,32))\n",
    "        img_har = wavelett_trans(img_train, level=5)\n",
    "        scaled_har_img = cv2.resize(img_har, (32,32))\n",
    "        stack_img = np.vstack((scaled_raw_img.reshape(32*32*3,1), scaled_har_img.reshape(32*32,1)))\n",
    "        stack_img = stack_img.reshape(64,64)\n",
    "        X.append(stack_img)\n",
    "        Y.append(encode_celeb[celeb])"
   ]
  },
  {
   "cell_type": "code",
   "execution_count": 6,
   "metadata": {},
   "outputs": [
    {
     "data": {
      "text/plain": [
       "<matplotlib.image.AxesImage at 0x1afbab91e90>"
      ]
     },
     "execution_count": 6,
     "metadata": {},
     "output_type": "execute_result"
    },
    {
     "data": {
      "image/png": "[encoded data removed]",
      "text/plain": [
       "<Figure size 640x480 with 1 Axes>"
      ]
     },
     "metadata": {},
     "output_type": "display_data"
    }
   ],
   "source": [
    "plt.imshow(X[0])"
   ]
  },
  {
   "cell_type": "code",
   "execution_count": 7,
   "metadata": {},
   "outputs": [],
   "source": [
    "X = np.array(X, dtype=np.uint8)\n",
    "Y = np.array(Y, dtype=np.uint8)"
   ]
  },
  {
   "cell_type": "code",
   "execution_count": 8,
   "metadata": {},
   "outputs": [],
   "source": [
    "X_train, X_test, Y_train, Y_test = train_test_split(X,Y, random_state=20, test_size=0.1)"
   ]
  },
  {
   "cell_type": "code",
   "execution_count": 9,
   "metadata": {},
   "outputs": [],
   "source": [
    "X_train = X_train/255\n",
    "X_test = X_test/255"
   ]
  },
  {
   "cell_type": "code",
   "execution_count": 10,
   "metadata": {},
   "outputs": [
    {
     "data": {
      "text/plain": [
       "((198, 64, 64), (23, 64, 64))"
      ]
     },
     "execution_count": 10,
     "metadata": {},
     "output_type": "execute_result"
    }
   ],
   "source": [
    "X_train.shape, X_test.shape"
   ]
  },
  {
   "cell_type": "code",
   "execution_count": 11,
   "metadata": {},
   "outputs": [
    {
     "name": "stdout",
     "output_type": "stream",
     "text": [
      "Epoch 1/10\n",
      "7/7 [==============================] - 2s 196ms/step - loss: 350.8567 - accuracy: 0.1403\n",
      "Epoch 2/10\n",
      "7/7 [==============================] - 1s 193ms/step - loss: 189.8977 - accuracy: 0.3846\n",
      "Epoch 3/10\n",
      "7/7 [==============================] - 1s 181ms/step - loss: 107.9654 - accuracy: 0.4977\n",
      "Epoch 4/10\n",
      "7/7 [==============================] - 1s 195ms/step - loss: 35.3272 - accuracy: 0.5249\n",
      "Epoch 5/10\n",
      "7/7 [==============================] - 1s 182ms/step - loss: 26.4131 - accuracy: 0.6652\n",
      "Epoch 6/10\n",
      "7/7 [==============================] - 1s 179ms/step - loss: 11.6759 - accuracy: 0.7466\n",
      "Epoch 7/10\n",
      "7/7 [==============================] - 1s 182ms/step - loss: 4.7180 - accuracy: 0.8643\n",
      "Epoch 8/10\n",
      "7/7 [==============================] - 1s 199ms/step - loss: 4.4505 - accuracy: 0.8416\n",
      "Epoch 9/10\n",
      "7/7 [==============================] - 1s 180ms/step - loss: 2.4769 - accuracy: 0.8959\n",
      "Epoch 10/10\n",
      "7/7 [==============================] - 1s 180ms/step - loss: 2.9551 - accuracy: 0.9186\n"
     ]
    },
    {
     "data": {
      "text/plain": [
       "<keras.src.callbacks.History at 0x1afbacd0590>"
      ]
     },
     "execution_count": 11,
     "metadata": {},
     "output_type": "execute_result"
    }
   ],
   "source": [
    "model = keras.Sequential([\n",
    "    keras.layers.Flatten(input_shape=(64,64)),\n",
    "    keras.layers.Dense(2048, activation='relu'),\n",
    "    keras.layers.Dense(1024, activation='relu'),\n",
    "    keras.layers.Dense(9, activation='softmax')\n",
    "])\n",
    "opt = keras.optimizers.Adam(learning_rate=0.0001)\n",
    "model.compile(optimizer=opt,\n",
    "              loss='sparse_categorical_crossentropy',\n",
    "              metrics=['accuracy'])\n",
    "\n",
    "model.fit(X, Y, epochs=10)  "
   ]
  },
  {
   "cell_type": "code",
   "execution_count": 12,
   "metadata": {},
   "outputs": [
    {
     "name": "stdout",
     "output_type": "stream",
     "text": [
      "7/7 [==============================] - 0s 15ms/step - loss: 0.5488 - accuracy: 0.9502\n"
     ]
    },
    {
     "data": {
      "text/plain": [
       "[0.5488318800926208, 0.9502262473106384]"
      ]
     },
     "execution_count": 12,
     "metadata": {},
     "output_type": "execute_result"
    }
   ],
   "source": [
    "model.evaluate(X, Y)"
   ]
  },
  {
   "cell_type": "code",
   "execution_count": null,
   "metadata": {},
   "outputs": [],
   "source": []
  },
  {
   "cell_type": "code",
   "execution_count": 13,
   "metadata": {},
   "outputs": [
    {
     "name": "stdout",
     "output_type": "stream",
     "text": [
      "Epoch 1/30\n",
      "7/7 [==============================] - 2s 77ms/step - loss: 2.4547 - accuracy: 0.1176\n",
      "Epoch 2/30\n",
      "7/7 [==============================] - 1s 87ms/step - loss: 2.1459 - accuracy: 0.2353\n",
      "Epoch 3/30\n",
      "7/7 [==============================] - 1s 83ms/step - loss: 1.9539 - accuracy: 0.3077\n",
      "Epoch 4/30\n",
      "7/7 [==============================] - 1s 79ms/step - loss: 1.8355 - accuracy: 0.3891\n",
      "Epoch 5/30\n",
      "7/7 [==============================] - 1s 78ms/step - loss: 1.7432 - accuracy: 0.4661\n",
      "Epoch 6/30\n",
      "7/7 [==============================] - 1s 81ms/step - loss: 1.6654 - accuracy: 0.5294\n",
      "Epoch 7/30\n",
      "7/7 [==============================] - 1s 78ms/step - loss: 1.5974 - accuracy: 0.5611\n",
      "Epoch 8/30\n",
      "7/7 [==============================] - 1s 81ms/step - loss: 1.5367 - accuracy: 0.6063\n",
      "Epoch 9/30\n",
      "7/7 [==============================] - 1s 75ms/step - loss: 1.4845 - accuracy: 0.6335\n",
      "Epoch 10/30\n",
      "7/7 [==============================] - 1s 76ms/step - loss: 1.4305 - accuracy: 0.6652\n",
      "Epoch 11/30\n",
      "7/7 [==============================] - 1s 83ms/step - loss: 1.3823 - accuracy: 0.7014\n",
      "Epoch 12/30\n",
      "7/7 [==============================] - 1s 86ms/step - loss: 1.3326 - accuracy: 0.7240\n",
      "Epoch 13/30\n",
      "7/7 [==============================] - 1s 76ms/step - loss: 1.2877 - accuracy: 0.7421\n",
      "Epoch 14/30\n",
      "7/7 [==============================] - 1s 94ms/step - loss: 1.2450 - accuracy: 0.7602\n",
      "Epoch 15/30\n",
      "7/7 [==============================] - 1s 94ms/step - loss: 1.2023 - accuracy: 0.7828\n",
      "Epoch 16/30\n",
      "7/7 [==============================] - 1s 78ms/step - loss: 1.1613 - accuracy: 0.8009\n",
      "Epoch 17/30\n",
      "7/7 [==============================] - 1s 74ms/step - loss: 1.1227 - accuracy: 0.8145\n",
      "Epoch 18/30\n",
      "7/7 [==============================] - 1s 79ms/step - loss: 1.0871 - accuracy: 0.8281\n",
      "Epoch 19/30\n",
      "7/7 [==============================] - 1s 78ms/step - loss: 1.0527 - accuracy: 0.8416\n",
      "Epoch 20/30\n",
      "7/7 [==============================] - 1s 79ms/step - loss: 1.0194 - accuracy: 0.8597\n",
      "Epoch 21/30\n",
      "7/7 [==============================] - 1s 81ms/step - loss: 0.9903 - accuracy: 0.8643\n",
      "Epoch 22/30\n",
      "7/7 [==============================] - 1s 80ms/step - loss: 0.9614 - accuracy: 0.8869\n",
      "Epoch 23/30\n",
      "7/7 [==============================] - 1s 78ms/step - loss: 0.9335 - accuracy: 0.9005\n",
      "Epoch 24/30\n",
      "7/7 [==============================] - 1s 76ms/step - loss: 0.9049 - accuracy: 0.9005\n",
      "Epoch 25/30\n",
      "7/7 [==============================] - 1s 85ms/step - loss: 0.8784 - accuracy: 0.9276\n",
      "Epoch 26/30\n",
      "7/7 [==============================] - 1s 81ms/step - loss: 0.8534 - accuracy: 0.9412\n",
      "Epoch 27/30\n",
      "7/7 [==============================] - 1s 91ms/step - loss: 0.8300 - accuracy: 0.9412\n",
      "Epoch 28/30\n",
      "7/7 [==============================] - 1s 96ms/step - loss: 0.8064 - accuracy: 0.9593\n",
      "Epoch 29/30\n",
      "7/7 [==============================] - 1s 78ms/step - loss: 0.7849 - accuracy: 0.9593\n",
      "Epoch 30/30\n",
      "7/7 [==============================] - 1s 75ms/step - loss: 0.7636 - accuracy: 0.9593\n"
     ]
    },
    {
     "data": {
      "text/plain": [
       "<keras.src.callbacks.History at 0x1afbe55ac10>"
      ]
     },
     "execution_count": 13,
     "metadata": {},
     "output_type": "execute_result"
    }
   ],
   "source": [
    "model_cnn = keras.Sequential([\n",
    "    keras.layers.Conv2D(input_shape=(64,64,1) ,filters=12, kernel_size=(3,3), activation='relu'),\n",
    "    keras.layers.MaxPool2D((2,2)),\n",
    "    \n",
    "    keras.layers.Conv2D(filters= 12, kernel_size=(3,3), activation='relu'),\n",
    "    keras.layers.MaxPool2D((2,2)),\n",
    "    \n",
    "    keras.layers.Flatten(),\n",
    "    keras.layers.Dense(1024, activation='tanh'),\n",
    "    keras.layers.Dense(256, activation='tanh'),\n",
    "    keras.layers.Dense(9, activation='softmax')\n",
    "])\n",
    "opt = keras.optimizers.Adam(learning_rate=0.00001)\n",
    "model_cnn.compile(optimizer=opt,\n",
    "              loss='sparse_categorical_crossentropy',\n",
    "              metrics=['accuracy'])\n",
    "\n",
    "model_cnn.fit(X, Y, epochs=30) "
   ]
  },
  {
   "cell_type": "code",
   "execution_count": 14,
   "metadata": {},
   "outputs": [
    {
     "name": "stdout",
     "output_type": "stream",
     "text": [
      "7/7 [==============================] - 0s 15ms/step - loss: 0.7436 - accuracy: 0.9638\n"
     ]
    },
    {
     "data": {
      "text/plain": [
       "[0.7436026334762573, 0.9638009071350098]"
      ]
     },
     "execution_count": 14,
     "metadata": {},
     "output_type": "execute_result"
    }
   ],
   "source": [
    "model_cnn.evaluate(X, Y)"
   ]
  },
  {
   "cell_type": "code",
   "execution_count": 15,
   "metadata": {},
   "outputs": [],
   "source": [
    "#joblib.dump(model, 'Deep_Model.sav')"
   ]
  },
  {
   "cell_type": "code",
   "execution_count": 16,
   "metadata": {},
   "outputs": [
    {
     "data": {
      "text/plain": [
       "(221, 64, 64)"
      ]
     },
     "execution_count": 16,
     "metadata": {},
     "output_type": "execute_result"
    }
   ],
   "source": [
    "X.shape"
   ]
  },
  {
   "cell_type": "code",
   "execution_count": 17,
   "metadata": {},
   "outputs": [],
   "source": [
    "input = X[0]\n",
    "input = input.reshape(1,64,64)"
   ]
  },
  {
   "cell_type": "code",
   "execution_count": 18,
   "metadata": {},
   "outputs": [
    {
     "name": "stdout",
     "output_type": "stream",
     "text": [
      "1/1 [==============================] - 0s 120ms/step\n"
     ]
    }
   ],
   "source": [
    "res = model.predict(input)"
   ]
  },
  {
   "cell_type": "code",
   "execution_count": 19,
   "metadata": {},
   "outputs": [
    {
     "data": {
      "text/plain": [
       "array([1., 0., 0., 0., 0., 0., 0., 0., 0.], dtype=float32)"
      ]
     },
     "execution_count": 19,
     "metadata": {},
     "output_type": "execute_result"
    }
   ],
   "source": [
    "res[0]"
   ]
  },
  {
   "cell_type": "code",
   "execution_count": 20,
   "metadata": {},
   "outputs": [
    {
     "data": {
      "text/plain": [
       "0"
      ]
     },
     "execution_count": 20,
     "metadata": {},
     "output_type": "execute_result"
    }
   ],
   "source": [
    "np.argmax(res[0])"
   ]
  },
  {
   "cell_type": "code",
   "execution_count": 21,
   "metadata": {},
   "outputs": [
    {
     "data": {
      "text/plain": [
       "[100.0, 0.0, 0.0, 0.0, 0.0, 0.0, 0.0, 0.0, 0.0]"
      ]
     },
     "execution_count": 21,
     "metadata": {},
     "output_type": "execute_result"
    }
   ],
   "source": [
    "np.around((res[0]*100),2).tolist()"
   ]
  },
  {
   "cell_type": "code",
   "execution_count": 22,
   "metadata": {},
   "outputs": [
    {
     "data": {
      "text/plain": [
       "(1, 64, 64)"
      ]
     },
     "execution_count": 22,
     "metadata": {},
     "output_type": "execute_result"
    }
   ],
   "source": [
    "input = X[114].reshape(1,64,64)\n",
    "input.shape"
   ]
  },
  {
   "cell_type": "code",
   "execution_count": 23,
   "metadata": {},
   "outputs": [
    {
     "name": "stdout",
     "output_type": "stream",
     "text": [
      "1/1 [==============================] - 0s 90ms/step\n"
     ]
    },
    {
     "data": {
      "text/plain": [
       "[2.37052321434021,\n",
       " 1.8476982116699219,\n",
       " 10.364214897155762,\n",
       " 12.657232284545898,\n",
       " 6.093758583068848,\n",
       " 39.58464813232422,\n",
       " 15.431025505065918,\n",
       " 3.7471718788146973,\n",
       " 7.9037322998046875]"
      ]
     },
     "execution_count": 23,
     "metadata": {},
     "output_type": "execute_result"
    }
   ],
   "source": [
    "(model_cnn.predict(input)*100)[0].tolist()"
   ]
  },
  {
   "cell_type": "code",
   "execution_count": 24,
   "metadata": {},
   "outputs": [
    {
     "name": "stdout",
     "output_type": "stream",
     "text": [
      "1/1 [==============================] - 0s 23ms/step\n"
     ]
    },
    {
     "data": {
      "text/plain": [
       "5"
      ]
     },
     "execution_count": 24,
     "metadata": {},
     "output_type": "execute_result"
    }
   ],
   "source": [
    "np.argmax(model.predict(input)[0])"
   ]
  },
  {
   "cell_type": "code",
   "execution_count": 25,
   "metadata": {},
   "outputs": [
    {
     "data": {
      "text/plain": [
       "{'ben_afflek': 0,\n",
       " 'jerry_seinfeld': 1,\n",
       " 'lionel_messi': 2,\n",
       " 'madonna': 3,\n",
       " 'maria_sharapova': 4,\n",
       " 'mindy_kaling': 5,\n",
       " 'roger_federer': 6,\n",
       " 'serena_williams': 7,\n",
       " 'virat_kohli': 8}"
      ]
     },
     "execution_count": 25,
     "metadata": {},
     "output_type": "execute_result"
    }
   ],
   "source": [
    "encode_celeb"
   ]
  }
 ],
 "metadata": {
  "kernelspec": {
   "display_name": "Python 3 (ipykernel)",
   "language": "python",
   "name": "python3"
  },
  "language_info": {
   "codemirror_mode": {
    "name": "ipython",
    "version": 3
   },
   "file_extension": ".py",
   "mimetype": "text/x-python",
   "name": "python",
   "nbconvert_exporter": "python",
   "pygments_lexer": "ipython3",
   "version": "3.11.4"
  },
  "vscode": {
   "interpreter": {
    "hash": "c4ed460cfcc7e2c9e821aba7a20622d20c3464e7c33cc2771b0e6335ddeb7e1f"
   }
  }
 },
 "nbformat": 4,
 "nbformat_minor": 2
}
