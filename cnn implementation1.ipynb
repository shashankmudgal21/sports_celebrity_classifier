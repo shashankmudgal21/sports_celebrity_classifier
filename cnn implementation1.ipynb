{
 "cells": [
  {
   "cell_type": "code",
   "execution_count": 1,
   "metadata": {},
   "outputs": [
    {
     "name": "stdout",
     "output_type": "stream",
     "text": [
      "WARNING:tensorflow:From C:\\Python310\\lib\\site-packages\\keras\\src\\losses.py:2976: The name tf.losses.sparse_softmax_cross_entropy is deprecated. Please use tf.compat.v1.losses.sparse_softmax_cross_entropy instead.\n",
      "\n"
     ]
    }
   ],
   "source": [
    "import tensorflow as tf\n",
    "from tensorflow import keras\n",
    "import joblib\n",
    "from sklearn.model_selection import train_test_split\n",
    "import numpy as np\n",
    "import pandas as pd\n",
    "import cv2\n",
    "from server.Wavelet import wavelett_trans\n",
    "from matplotlib import pyplot as plt"
   ]
  },
  {
   "cell_type": "code",
   "execution_count": 2,
   "metadata": {},
   "outputs": [],
   "source": [
    "celeb_folders = joblib.load('celeb_folders')"
   ]
  },
  {
   "cell_type": "code",
   "execution_count": 3,
   "metadata": {},
   "outputs": [
    {
     "data": {
      "text/plain": [
       "{'ben_afflek': ['./Cropped Images/ben_afflek/ben_afflek1.jpg',\n",
       "  './Cropped Images/ben_afflek/ben_afflek2.jpg',\n",
       "  './Cropped Images/ben_afflek/ben_afflek3.jpg',\n",
       "  './Cropped Images/ben_afflek/ben_afflek4.jpg',\n",
       "  './Cropped Images/ben_afflek/ben_afflek5.jpg',\n",
       "  './Cropped Images/ben_afflek/ben_afflek6.jpg',\n",
       "  './Cropped Images/ben_afflek/ben_afflek7.jpg'],\n",
       " 'jerry_seinfeld': ['./Cropped Images/jerry_seinfeld/jerry_seinfeld1.jpg',\n",
       "  './Cropped Images/jerry_seinfeld/jerry_seinfeld2.jpg',\n",
       "  './Cropped Images/jerry_seinfeld/jerry_seinfeld3.jpg',\n",
       "  './Cropped Images/jerry_seinfeld/jerry_seinfeld4.jpg',\n",
       "  './Cropped Images/jerry_seinfeld/jerry_seinfeld5.jpg',\n",
       "  './Cropped Images/jerry_seinfeld/jerry_seinfeld6.jpg',\n",
       "  './Cropped Images/jerry_seinfeld/jerry_seinfeld7.jpg',\n",
       "  './Cropped Images/jerry_seinfeld/jerry_seinfeld8.jpg',\n",
       "  './Cropped Images/jerry_seinfeld/jerry_seinfeld9.jpg',\n",
       "  './Cropped Images/jerry_seinfeld/jerry_seinfeld10.jpg',\n",
       "  './Cropped Images/jerry_seinfeld/jerry_seinfeld11.jpg',\n",
       "  './Cropped Images/jerry_seinfeld/jerry_seinfeld12.jpg',\n",
       "  './Cropped Images/jerry_seinfeld/jerry_seinfeld13.jpg',\n",
       "  './Cropped Images/jerry_seinfeld/jerry_seinfeld14.jpg',\n",
       "  './Cropped Images/jerry_seinfeld/jerry_seinfeld15.jpg',\n",
       "  './Cropped Images/jerry_seinfeld/jerry_seinfeld16.jpg',\n",
       "  './Cropped Images/jerry_seinfeld/jerry_seinfeld17.jpg',\n",
       "  './Cropped Images/jerry_seinfeld/jerry_seinfeld18.jpg'],\n",
       " 'lionel_messi': ['./Cropped Images/lionel_messi/lionel_messi1.jpg',\n",
       "  './Cropped Images/lionel_messi/lionel_messi2.jpg',\n",
       "  './Cropped Images/lionel_messi/lionel_messi3.jpg',\n",
       "  './Cropped Images/lionel_messi/lionel_messi4.jpg',\n",
       "  './Cropped Images/lionel_messi/lionel_messi5.jpg',\n",
       "  './Cropped Images/lionel_messi/lionel_messi6.jpg',\n",
       "  './Cropped Images/lionel_messi/lionel_messi7.jpg',\n",
       "  './Cropped Images/lionel_messi/lionel_messi8.jpg',\n",
       "  './Cropped Images/lionel_messi/lionel_messi9.jpg',\n",
       "  './Cropped Images/lionel_messi/lionel_messi10.jpg',\n",
       "  './Cropped Images/lionel_messi/lionel_messi11.jpg',\n",
       "  './Cropped Images/lionel_messi/lionel_messi12.jpg',\n",
       "  './Cropped Images/lionel_messi/lionel_messi13.jpg',\n",
       "  './Cropped Images/lionel_messi/lionel_messi14.jpg',\n",
       "  './Cropped Images/lionel_messi/lionel_messi15.jpg',\n",
       "  './Cropped Images/lionel_messi/lionel_messi16.jpg',\n",
       "  './Cropped Images/lionel_messi/lionel_messi17.jpg',\n",
       "  './Cropped Images/lionel_messi/lionel_messi18.jpg',\n",
       "  './Cropped Images/lionel_messi/lionel_messi19.jpg',\n",
       "  './Cropped Images/lionel_messi/lionel_messi20.jpg',\n",
       "  './Cropped Images/lionel_messi/lionel_messi21.jpg',\n",
       "  './Cropped Images/lionel_messi/lionel_messi22.jpg',\n",
       "  './Cropped Images/lionel_messi/lionel_messi23.jpg',\n",
       "  './Cropped Images/lionel_messi/lionel_messi24.jpg',\n",
       "  './Cropped Images/lionel_messi/lionel_messi25.jpg',\n",
       "  './Cropped Images/lionel_messi/lionel_messi26.jpg',\n",
       "  './Cropped Images/lionel_messi/lionel_messi27.jpg',\n",
       "  './Cropped Images/lionel_messi/lionel_messi28.jpg',\n",
       "  './Cropped Images/lionel_messi/lionel_messi29.jpg',\n",
       "  './Cropped Images/lionel_messi/lionel_messi30.jpg',\n",
       "  './Cropped Images/lionel_messi/lionel_messi31.jpg',\n",
       "  './Cropped Images/lionel_messi/lionel_messi32.jpg',\n",
       "  './Cropped Images/lionel_messi/lionel_messi33.jpg',\n",
       "  './Cropped Images/lionel_messi/lionel_messi34.jpg',\n",
       "  './Cropped Images/lionel_messi/lionel_messi35.jpg',\n",
       "  './Cropped Images/lionel_messi/lionel_messi36.jpg',\n",
       "  './Cropped Images/lionel_messi/lionel_messi37.jpg',\n",
       "  './Cropped Images/lionel_messi/lionel_messi38.jpg',\n",
       "  './Cropped Images/lionel_messi/lionel_messi39.jpg'],\n",
       " 'madonna': ['./Cropped Images/madonna/madonna1.jpg',\n",
       "  './Cropped Images/madonna/madonna2.jpg',\n",
       "  './Cropped Images/madonna/madonna3.jpg',\n",
       "  './Cropped Images/madonna/madonna4.jpg',\n",
       "  './Cropped Images/madonna/madonna5.jpg',\n",
       "  './Cropped Images/madonna/madonna6.jpg',\n",
       "  './Cropped Images/madonna/madonna7.jpg',\n",
       "  './Cropped Images/madonna/madonna8.jpg',\n",
       "  './Cropped Images/madonna/madonna9.jpg',\n",
       "  './Cropped Images/madonna/madonna10.jpg',\n",
       "  './Cropped Images/madonna/madonna11.jpg'],\n",
       " 'maria_sharapova': ['./Cropped Images/maria_sharapova/maria_sharapova1.jpg',\n",
       "  './Cropped Images/maria_sharapova/maria_sharapova2.jpg',\n",
       "  './Cropped Images/maria_sharapova/maria_sharapova3.jpg',\n",
       "  './Cropped Images/maria_sharapova/maria_sharapova4.jpg',\n",
       "  './Cropped Images/maria_sharapova/maria_sharapova5.jpg',\n",
       "  './Cropped Images/maria_sharapova/maria_sharapova6.jpg',\n",
       "  './Cropped Images/maria_sharapova/maria_sharapova7.jpg',\n",
       "  './Cropped Images/maria_sharapova/maria_sharapova8.jpg',\n",
       "  './Cropped Images/maria_sharapova/maria_sharapova9.jpg',\n",
       "  './Cropped Images/maria_sharapova/maria_sharapova10.jpg',\n",
       "  './Cropped Images/maria_sharapova/maria_sharapova11.jpg',\n",
       "  './Cropped Images/maria_sharapova/maria_sharapova12.jpg',\n",
       "  './Cropped Images/maria_sharapova/maria_sharapova13.jpg',\n",
       "  './Cropped Images/maria_sharapova/maria_sharapova14.jpg',\n",
       "  './Cropped Images/maria_sharapova/maria_sharapova15.jpg',\n",
       "  './Cropped Images/maria_sharapova/maria_sharapova16.jpg',\n",
       "  './Cropped Images/maria_sharapova/maria_sharapova17.jpg',\n",
       "  './Cropped Images/maria_sharapova/maria_sharapova18.jpg',\n",
       "  './Cropped Images/maria_sharapova/maria_sharapova19.jpg',\n",
       "  './Cropped Images/maria_sharapova/maria_sharapova20.jpg',\n",
       "  './Cropped Images/maria_sharapova/maria_sharapova21.jpg',\n",
       "  './Cropped Images/maria_sharapova/maria_sharapova22.jpg',\n",
       "  './Cropped Images/maria_sharapova/maria_sharapova23.jpg',\n",
       "  './Cropped Images/maria_sharapova/maria_sharapova24.jpg',\n",
       "  './Cropped Images/maria_sharapova/maria_sharapova25.jpg',\n",
       "  './Cropped Images/maria_sharapova/maria_sharapova26.jpg',\n",
       "  './Cropped Images/maria_sharapova/maria_sharapova27.jpg',\n",
       "  './Cropped Images/maria_sharapova/maria_sharapova28.jpg',\n",
       "  './Cropped Images/maria_sharapova/maria_sharapova29.jpg',\n",
       "  './Cropped Images/maria_sharapova/maria_sharapova30.jpg',\n",
       "  './Cropped Images/maria_sharapova/maria_sharapova31.jpg',\n",
       "  './Cropped Images/maria_sharapova/maria_sharapova32.jpg',\n",
       "  './Cropped Images/maria_sharapova/maria_sharapova33.jpg',\n",
       "  './Cropped Images/maria_sharapova/maria_sharapova34.jpg',\n",
       "  './Cropped Images/maria_sharapova/maria_sharapova35.jpg',\n",
       "  './Cropped Images/maria_sharapova/maria_sharapova36.jpg',\n",
       "  './Cropped Images/maria_sharapova/maria_sharapova37.jpg'],\n",
       " 'mindy_kaling': ['./Cropped Images/mindy_kaling/mindy_kaling1.jpg',\n",
       "  './Cropped Images/mindy_kaling/mindy_kaling2.jpg',\n",
       "  './Cropped Images/mindy_kaling/mindy_kaling3.jpg',\n",
       "  './Cropped Images/mindy_kaling/mindy_kaling4.jpg',\n",
       "  './Cropped Images/mindy_kaling/mindy_kaling5.jpg',\n",
       "  './Cropped Images/mindy_kaling/mindy_kaling6.jpg',\n",
       "  './Cropped Images/mindy_kaling/mindy_kaling7.jpg',\n",
       "  './Cropped Images/mindy_kaling/mindy_kaling8.jpg',\n",
       "  './Cropped Images/mindy_kaling/mindy_kaling9.jpg',\n",
       "  './Cropped Images/mindy_kaling/mindy_kaling10.jpg',\n",
       "  './Cropped Images/mindy_kaling/mindy_kaling11.jpg',\n",
       "  './Cropped Images/mindy_kaling/mindy_kaling12.jpg',\n",
       "  './Cropped Images/mindy_kaling/mindy_kaling13.jpg',\n",
       "  './Cropped Images/mindy_kaling/mindy_kaling14.jpg',\n",
       "  './Cropped Images/mindy_kaling/mindy_kaling15.jpg',\n",
       "  './Cropped Images/mindy_kaling/mindy_kaling16.jpg',\n",
       "  './Cropped Images/mindy_kaling/mindy_kaling17.jpg',\n",
       "  './Cropped Images/mindy_kaling/mindy_kaling18.jpg',\n",
       "  './Cropped Images/mindy_kaling/mindy_kaling19.jpg'],\n",
       " 'roger_federer': ['./Cropped Images/roger_federer/roger_federer1.jpg',\n",
       "  './Cropped Images/roger_federer/roger_federer2.jpg',\n",
       "  './Cropped Images/roger_federer/roger_federer3.jpg',\n",
       "  './Cropped Images/roger_federer/roger_federer4.jpg',\n",
       "  './Cropped Images/roger_federer/roger_federer5.jpg',\n",
       "  './Cropped Images/roger_federer/roger_federer6.jpg',\n",
       "  './Cropped Images/roger_federer/roger_federer7.jpg',\n",
       "  './Cropped Images/roger_federer/roger_federer8.jpg',\n",
       "  './Cropped Images/roger_federer/roger_federer9.jpg',\n",
       "  './Cropped Images/roger_federer/roger_federer10.jpg',\n",
       "  './Cropped Images/roger_federer/roger_federer11.jpg',\n",
       "  './Cropped Images/roger_federer/roger_federer12.jpg',\n",
       "  './Cropped Images/roger_federer/roger_federer13.jpg',\n",
       "  './Cropped Images/roger_federer/roger_federer14.jpg',\n",
       "  './Cropped Images/roger_federer/roger_federer15.jpg',\n",
       "  './Cropped Images/roger_federer/roger_federer16.jpg',\n",
       "  './Cropped Images/roger_federer/roger_federer17.jpg',\n",
       "  './Cropped Images/roger_federer/roger_federer18.jpg',\n",
       "  './Cropped Images/roger_federer/roger_federer19.jpg',\n",
       "  './Cropped Images/roger_federer/roger_federer20.jpg',\n",
       "  './Cropped Images/roger_federer/roger_federer21.jpg',\n",
       "  './Cropped Images/roger_federer/roger_federer22.jpg',\n",
       "  './Cropped Images/roger_federer/roger_federer23.jpg',\n",
       "  './Cropped Images/roger_federer/roger_federer24.jpg',\n",
       "  './Cropped Images/roger_federer/roger_federer25.jpg',\n",
       "  './Cropped Images/roger_federer/roger_federer26.jpg',\n",
       "  './Cropped Images/roger_federer/roger_federer27.jpg',\n",
       "  './Cropped Images/roger_federer/roger_federer28.jpg',\n",
       "  './Cropped Images/roger_federer/roger_federer29.jpg',\n",
       "  './Cropped Images/roger_federer/roger_federer30.jpg'],\n",
       " 'serena_williams': ['./Cropped Images/serena_williams/serena_williams1.jpg',\n",
       "  './Cropped Images/serena_williams/serena_williams2.jpg',\n",
       "  './Cropped Images/serena_williams/serena_williams3.jpg',\n",
       "  './Cropped Images/serena_williams/serena_williams4.jpg',\n",
       "  './Cropped Images/serena_williams/serena_williams5.jpg',\n",
       "  './Cropped Images/serena_williams/serena_williams6.jpg',\n",
       "  './Cropped Images/serena_williams/serena_williams7.jpg',\n",
       "  './Cropped Images/serena_williams/serena_williams8.jpg',\n",
       "  './Cropped Images/serena_williams/serena_williams9.jpg',\n",
       "  './Cropped Images/serena_williams/serena_williams10.jpg',\n",
       "  './Cropped Images/serena_williams/serena_williams11.jpg',\n",
       "  './Cropped Images/serena_williams/serena_williams12.jpg',\n",
       "  './Cropped Images/serena_williams/serena_williams13.jpg',\n",
       "  './Cropped Images/serena_williams/serena_williams14.jpg',\n",
       "  './Cropped Images/serena_williams/serena_williams15.jpg',\n",
       "  './Cropped Images/serena_williams/serena_williams16.jpg',\n",
       "  './Cropped Images/serena_williams/serena_williams17.jpg',\n",
       "  './Cropped Images/serena_williams/serena_williams18.jpg',\n",
       "  './Cropped Images/serena_williams/serena_williams19.jpg',\n",
       "  './Cropped Images/serena_williams/serena_williams20.jpg',\n",
       "  './Cropped Images/serena_williams/serena_williams21.jpg',\n",
       "  './Cropped Images/serena_williams/serena_williams22.jpg',\n",
       "  './Cropped Images/serena_williams/serena_williams23.jpg',\n",
       "  './Cropped Images/serena_williams/serena_williams24.jpg',\n",
       "  './Cropped Images/serena_williams/serena_williams25.jpg',\n",
       "  './Cropped Images/serena_williams/serena_williams26.jpg',\n",
       "  './Cropped Images/serena_williams/serena_williams27.jpg',\n",
       "  './Cropped Images/serena_williams/serena_williams28.jpg',\n",
       "  './Cropped Images/serena_williams/serena_williams29.jpg',\n",
       "  './Cropped Images/serena_williams/serena_williams30.jpg',\n",
       "  './Cropped Images/serena_williams/serena_williams31.jpg',\n",
       "  './Cropped Images/serena_williams/serena_williams32.jpg',\n",
       "  './Cropped Images/serena_williams/serena_williams33.jpg',\n",
       "  './Cropped Images/serena_williams/serena_williams34.jpg',\n",
       "  './Cropped Images/serena_williams/serena_williams35.jpg',\n",
       "  './Cropped Images/serena_williams/serena_williams36.jpg'],\n",
       " 'virat_kohli': ['./Cropped Images/virat_kohli/virat_kohli1.jpg',\n",
       "  './Cropped Images/virat_kohli/virat_kohli2.jpg',\n",
       "  './Cropped Images/virat_kohli/virat_kohli3.jpg',\n",
       "  './Cropped Images/virat_kohli/virat_kohli4.jpg',\n",
       "  './Cropped Images/virat_kohli/virat_kohli5.jpg',\n",
       "  './Cropped Images/virat_kohli/virat_kohli6.jpg',\n",
       "  './Cropped Images/virat_kohli/virat_kohli7.jpg',\n",
       "  './Cropped Images/virat_kohli/virat_kohli8.jpg',\n",
       "  './Cropped Images/virat_kohli/virat_kohli9.jpg',\n",
       "  './Cropped Images/virat_kohli/virat_kohli10.jpg',\n",
       "  './Cropped Images/virat_kohli/virat_kohli11.jpg',\n",
       "  './Cropped Images/virat_kohli/virat_kohli12.jpg',\n",
       "  './Cropped Images/virat_kohli/virat_kohli13.jpg',\n",
       "  './Cropped Images/virat_kohli/virat_kohli14.jpg',\n",
       "  './Cropped Images/virat_kohli/virat_kohli15.jpg',\n",
       "  './Cropped Images/virat_kohli/virat_kohli16.jpg',\n",
       "  './Cropped Images/virat_kohli/virat_kohli17.jpg',\n",
       "  './Cropped Images/virat_kohli/virat_kohli18.jpg',\n",
       "  './Cropped Images/virat_kohli/virat_kohli19.jpg',\n",
       "  './Cropped Images/virat_kohli/virat_kohli20.jpg',\n",
       "  './Cropped Images/virat_kohli/virat_kohli21.jpg',\n",
       "  './Cropped Images/virat_kohli/virat_kohli22.jpg',\n",
       "  './Cropped Images/virat_kohli/virat_kohli23.jpg',\n",
       "  './Cropped Images/virat_kohli/virat_kohli24.jpg',\n",
       "  './Cropped Images/virat_kohli/virat_kohli25.jpg',\n",
       "  './Cropped Images/virat_kohli/virat_kohli26.jpg',\n",
       "  './Cropped Images/virat_kohli/virat_kohli27.jpg',\n",
       "  './Cropped Images/virat_kohli/virat_kohli28.jpg',\n",
       "  './Cropped Images/virat_kohli/virat_kohli29.jpg',\n",
       "  './Cropped Images/virat_kohli/virat_kohli30.jpg',\n",
       "  './Cropped Images/virat_kohli/virat_kohli31.jpg',\n",
       "  './Cropped Images/virat_kohli/virat_kohli32.jpg',\n",
       "  './Cropped Images/virat_kohli/virat_kohli33.jpg',\n",
       "  './Cropped Images/virat_kohli/virat_kohli34.jpg',\n",
       "  './Cropped Images/virat_kohli/virat_kohli35.jpg',\n",
       "  './Cropped Images/virat_kohli/virat_kohli36.jpg',\n",
       "  './Cropped Images/virat_kohli/virat_kohli37.jpg',\n",
       "  './Cropped Images/virat_kohli/virat_kohli38.jpg',\n",
       "  './Cropped Images/virat_kohli/virat_kohli39.jpg',\n",
       "  './Cropped Images/virat_kohli/virat_kohli40.jpg',\n",
       "  './Cropped Images/virat_kohli/virat_kohli41.jpg',\n",
       "  './Cropped Images/virat_kohli/virat_kohli42.jpg',\n",
       "  './Cropped Images/virat_kohli/virat_kohli43.jpg',\n",
       "  './Cropped Images/virat_kohli/virat_kohli44.jpg',\n",
       "  './Cropped Images/virat_kohli/virat_kohli45.jpg',\n",
       "  './Cropped Images/virat_kohli/virat_kohli46.jpg',\n",
       "  './Cropped Images/virat_kohli/virat_kohli47.jpg',\n",
       "  './Cropped Images/virat_kohli/virat_kohli48.jpg',\n",
       "  './Cropped Images/virat_kohli/virat_kohli49.jpg']}"
      ]
     },
     "execution_count": 3,
     "metadata": {},
     "output_type": "execute_result"
    }
   ],
   "source": [
    "celeb_folders"
   ]
  },
  {
   "cell_type": "code",
   "execution_count": 4,
   "metadata": {},
   "outputs": [
    {
     "data": {
      "text/plain": [
       "{'ben_afflek': 0,\n",
       " 'jerry_seinfeld': 1,\n",
       " 'lionel_messi': 2,\n",
       " 'madonna': 3,\n",
       " 'maria_sharapova': 4,\n",
       " 'mindy_kaling': 5,\n",
       " 'roger_federer': 6,\n",
       " 'serena_williams': 7,\n",
       " 'virat_kohli': 8}"
      ]
     },
     "execution_count": 4,
     "metadata": {},
     "output_type": "execute_result"
    }
   ],
   "source": [
    "encode_celeb = {}\n",
    "c = 0\n",
    "\n",
    "for name in celeb_folders:\n",
    "    encode_celeb[name] = c\n",
    "    c += 1\n",
    "encode_celeb"
   ]
  },
  {
   "cell_type": "code",
   "execution_count": 5,
   "metadata": {},
   "outputs": [],
   "source": [
    "X = []\n",
    "Y = []\n",
    "for celeb, path in celeb_folders.items():\n",
    "    if not path:\n",
    "        continue\n",
    "    for train_data in path:\n",
    "        img_train = cv2.imread(train_data)\n",
    "        if img_train is None:\n",
    "            continue\n",
    "        scaled_raw_img = cv2.resize(img_train, (32,32))\n",
    "        img_har = wavelett_trans(img_train, level=5)\n",
    "        scaled_har_img = cv2.resize(img_har, (32,32))\n",
    "        stack_img = np.vstack((scaled_raw_img.reshape(32*32*3,1), scaled_har_img.reshape(32*32,1)))\n",
    "        stack_img = stack_img.reshape(64,64)\n",
    "        X.append(stack_img)\n",
    "        Y.append(encode_celeb[celeb])"
   ]
  },
  {
   "cell_type": "code",
   "execution_count": 6,
   "metadata": {},
   "outputs": [
    {
     "data": {
      "text/plain": [
       "<matplotlib.image.AxesImage at 0x23606dd2f20>"
      ]
     },
     "execution_count": 6,
     "metadata": {},
     "output_type": "execute_result"
    },
    {
     "data": {
      "image/png": "[encoded data removed]",
      "text/plain": [
       "<Figure size 640x480 with 1 Axes>"
      ]
     },
     "metadata": {},
     "output_type": "display_data"
    }
   ],
   "source": [
    "plt.imshow(X[1])"
   ]
  },
  {
   "cell_type": "code",
   "execution_count": 7,
   "metadata": {},
   "outputs": [],
   "source": [
    "X = np.array(X, dtype=np.uint8)\n",
    "Y = np.array(Y, dtype=np.uint8)"
   ]
  },
  {
   "cell_type": "code",
   "execution_count": 8,
   "metadata": {},
   "outputs": [],
   "source": [
    "X_train, X_test, Y_train, Y_test = train_test_split(X,Y, random_state=20, test_size=0.1)"
   ]
  },
  {
   "cell_type": "code",
   "execution_count": 9,
   "metadata": {},
   "outputs": [],
   "source": [
    "X_train = X_train/255\n",
    "X_test = X_test/255"
   ]
  },
  {
   "cell_type": "code",
   "execution_count": 10,
   "metadata": {},
   "outputs": [
    {
     "data": {
      "text/plain": [
       "((198, 64, 64), (23, 64, 64))"
      ]
     },
     "execution_count": 10,
     "metadata": {},
     "output_type": "execute_result"
    }
   ],
   "source": [
    "X_train.shape, X_test.shape"
   ]
  },
  {
   "cell_type": "code",
   "execution_count": 11,
   "metadata": {},
   "outputs": [
    {
     "name": "stdout",
     "output_type": "stream",
     "text": [
      "WARNING:tensorflow:From C:\\Python310\\lib\\site-packages\\keras\\src\\backend.py:873: The name tf.get_default_graph is deprecated. Please use tf.compat.v1.get_default_graph instead.\n",
      "\n",
      "Epoch 1/100\n",
      "WARNING:tensorflow:From C:\\Python310\\lib\\site-packages\\keras\\src\\utils\\tf_utils.py:492: The name tf.ragged.RaggedTensorValue is deprecated. Please use tf.compat.v1.ragged.RaggedTensorValue instead.\n",
      "\n",
      "WARNING:tensorflow:From C:\\Python310\\lib\\site-packages\\keras\\src\\engine\\base_layer_utils.py:384: The name tf.executing_eagerly_outside_functions is deprecated. Please use tf.compat.v1.executing_eagerly_outside_functions instead.\n",
      "\n",
      "7/7 [==============================] - 2s 122ms/step - loss: 267.5433 - accuracy: 0.1493\n",
      "Epoch 2/100\n",
      "7/7 [==============================] - 1s 99ms/step - loss: 159.1059 - accuracy: 0.1946\n",
      "Epoch 3/100\n",
      "7/7 [==============================] - 1s 107ms/step - loss: 67.4040 - accuracy: 0.3529\n",
      "Epoch 4/100\n",
      "7/7 [==============================] - 1s 102ms/step - loss: 60.8531 - accuracy: 0.4208\n",
      "Epoch 5/100\n",
      "7/7 [==============================] - 1s 117ms/step - loss: 23.2916 - accuracy: 0.6154\n",
      "Epoch 6/100\n",
      "7/7 [==============================] - 1s 110ms/step - loss: 9.1358 - accuracy: 0.8009\n",
      "Epoch 7/100\n",
      "7/7 [==============================] - 1s 113ms/step - loss: 6.3891 - accuracy: 0.7919\n",
      "Epoch 8/100\n",
      "7/7 [==============================] - 1s 111ms/step - loss: 22.3668 - accuracy: 0.6787\n",
      "Epoch 9/100\n",
      "7/7 [==============================] - 1s 97ms/step - loss: 16.9861 - accuracy: 0.7104\n",
      "Epoch 10/100\n",
      "7/7 [==============================] - 1s 107ms/step - loss: 27.7180 - accuracy: 0.6878\n",
      "Epoch 11/100\n",
      "7/7 [==============================] - 1s 105ms/step - loss: 8.4918 - accuracy: 0.8281\n",
      "Epoch 12/100\n",
      "7/7 [==============================] - 1s 105ms/step - loss: 0.1952 - accuracy: 0.9910\n",
      "Epoch 13/100\n",
      "7/7 [==============================] - 1s 107ms/step - loss: 0.0399 - accuracy: 0.9910\n",
      "Epoch 14/100\n",
      "7/7 [==============================] - 1s 102ms/step - loss: 0.0000e+00 - accuracy: 1.0000\n",
      "Epoch 15/100\n",
      "7/7 [==============================] - 1s 96ms/step - loss: 0.0000e+00 - accuracy: 1.0000\n",
      "Epoch 16/100\n",
      "7/7 [==============================] - 1s 93ms/step - loss: 0.0000e+00 - accuracy: 1.0000\n",
      "Epoch 17/100\n",
      "7/7 [==============================] - 1s 92ms/step - loss: 0.0000e+00 - accuracy: 1.0000\n",
      "Epoch 18/100\n",
      "7/7 [==============================] - 1s 97ms/step - loss: 0.0000e+00 - accuracy: 1.0000\n",
      "Epoch 19/100\n",
      "7/7 [==============================] - 1s 95ms/step - loss: 0.0000e+00 - accuracy: 1.0000\n",
      "Epoch 20/100\n",
      "7/7 [==============================] - 1s 99ms/step - loss: 0.0000e+00 - accuracy: 1.0000\n",
      "Epoch 21/100\n",
      "7/7 [==============================] - 1s 95ms/step - loss: 0.0000e+00 - accuracy: 1.0000\n",
      "Epoch 22/100\n",
      "7/7 [==============================] - 1s 96ms/step - loss: 0.0000e+00 - accuracy: 1.0000\n",
      "Epoch 23/100\n",
      "7/7 [==============================] - 1s 95ms/step - loss: 0.0000e+00 - accuracy: 1.0000\n",
      "Epoch 24/100\n",
      "7/7 [==============================] - 1s 92ms/step - loss: 0.0000e+00 - accuracy: 1.0000\n",
      "Epoch 25/100\n",
      "7/7 [==============================] - 1s 101ms/step - loss: 0.0000e+00 - accuracy: 1.0000\n",
      "Epoch 26/100\n",
      "7/7 [==============================] - 1s 96ms/step - loss: 0.0000e+00 - accuracy: 1.0000\n",
      "Epoch 27/100\n",
      "7/7 [==============================] - 1s 97ms/step - loss: 0.0000e+00 - accuracy: 1.0000\n",
      "Epoch 28/100\n",
      "7/7 [==============================] - 1s 93ms/step - loss: 0.0000e+00 - accuracy: 1.0000\n",
      "Epoch 29/100\n",
      "7/7 [==============================] - 1s 92ms/step - loss: 0.0000e+00 - accuracy: 1.0000\n",
      "Epoch 30/100\n",
      "7/7 [==============================] - 1s 88ms/step - loss: 0.0000e+00 - accuracy: 1.0000\n",
      "Epoch 31/100\n",
      "7/7 [==============================] - 1s 93ms/step - loss: 0.0000e+00 - accuracy: 1.0000\n",
      "Epoch 32/100\n",
      "7/7 [==============================] - 1s 93ms/step - loss: 0.0000e+00 - accuracy: 1.0000\n",
      "Epoch 33/100\n",
      "7/7 [==============================] - 1s 95ms/step - loss: 0.0000e+00 - accuracy: 1.0000\n",
      "Epoch 34/100\n",
      "7/7 [==============================] - 1s 96ms/step - loss: 0.0000e+00 - accuracy: 1.0000\n",
      "Epoch 35/100\n",
      "7/7 [==============================] - 1s 108ms/step - loss: 0.0000e+00 - accuracy: 1.0000\n",
      "Epoch 36/100\n",
      "7/7 [==============================] - 1s 97ms/step - loss: 0.0000e+00 - accuracy: 1.0000\n",
      "Epoch 37/100\n",
      "7/7 [==============================] - 1s 91ms/step - loss: 0.0000e+00 - accuracy: 1.0000\n",
      "Epoch 38/100\n",
      "7/7 [==============================] - 1s 94ms/step - loss: 0.0000e+00 - accuracy: 1.0000\n",
      "Epoch 39/100\n",
      "7/7 [==============================] - 1s 93ms/step - loss: 0.0000e+00 - accuracy: 1.0000\n",
      "Epoch 40/100\n",
      "7/7 [==============================] - 1s 92ms/step - loss: 0.0000e+00 - accuracy: 1.0000\n",
      "Epoch 41/100\n",
      "7/7 [==============================] - 1s 96ms/step - loss: 0.0000e+00 - accuracy: 1.0000\n",
      "Epoch 42/100\n",
      "7/7 [==============================] - 1s 95ms/step - loss: 0.0000e+00 - accuracy: 1.0000\n",
      "Epoch 43/100\n",
      "7/7 [==============================] - 1s 94ms/step - loss: 0.0000e+00 - accuracy: 1.0000\n",
      "Epoch 44/100\n",
      "7/7 [==============================] - 1s 94ms/step - loss: 0.0000e+00 - accuracy: 1.0000\n",
      "Epoch 45/100\n",
      "7/7 [==============================] - 1s 96ms/step - loss: 0.0000e+00 - accuracy: 1.0000\n",
      "Epoch 46/100\n",
      "7/7 [==============================] - 1s 94ms/step - loss: 0.0000e+00 - accuracy: 1.0000\n",
      "Epoch 47/100\n",
      "7/7 [==============================] - 1s 93ms/step - loss: 0.0000e+00 - accuracy: 1.0000\n",
      "Epoch 48/100\n",
      "7/7 [==============================] - 1s 93ms/step - loss: 0.0000e+00 - accuracy: 1.0000\n",
      "Epoch 49/100\n",
      "7/7 [==============================] - 1s 94ms/step - loss: 0.0000e+00 - accuracy: 1.0000\n",
      "Epoch 50/100\n",
      "7/7 [==============================] - 1s 91ms/step - loss: 0.0000e+00 - accuracy: 1.0000\n",
      "Epoch 51/100\n",
      "7/7 [==============================] - 1s 92ms/step - loss: 0.0000e+00 - accuracy: 1.0000\n",
      "Epoch 52/100\n",
      "7/7 [==============================] - 1s 89ms/step - loss: 0.0000e+00 - accuracy: 1.0000\n",
      "Epoch 53/100\n",
      "7/7 [==============================] - 1s 95ms/step - loss: 0.0000e+00 - accuracy: 1.0000\n",
      "Epoch 54/100\n",
      "7/7 [==============================] - 1s 90ms/step - loss: 0.0000e+00 - accuracy: 1.0000\n",
      "Epoch 55/100\n",
      "7/7 [==============================] - 1s 90ms/step - loss: 0.0000e+00 - accuracy: 1.0000\n",
      "Epoch 56/100\n",
      "7/7 [==============================] - 1s 90ms/step - loss: 0.0000e+00 - accuracy: 1.0000\n",
      "Epoch 57/100\n",
      "7/7 [==============================] - 1s 89ms/step - loss: 0.0000e+00 - accuracy: 1.0000\n",
      "Epoch 58/100\n",
      "7/7 [==============================] - 1s 91ms/step - loss: 0.0000e+00 - accuracy: 1.0000\n",
      "Epoch 59/100\n",
      "7/7 [==============================] - 1s 92ms/step - loss: 0.0000e+00 - accuracy: 1.0000\n",
      "Epoch 60/100\n",
      "7/7 [==============================] - 1s 92ms/step - loss: 0.0000e+00 - accuracy: 1.0000\n",
      "Epoch 61/100\n",
      "7/7 [==============================] - 1s 91ms/step - loss: 0.0000e+00 - accuracy: 1.0000\n",
      "Epoch 62/100\n",
      "7/7 [==============================] - 1s 93ms/step - loss: 0.0000e+00 - accuracy: 1.0000\n",
      "Epoch 63/100\n",
      "7/7 [==============================] - 1s 92ms/step - loss: 0.0000e+00 - accuracy: 1.0000\n",
      "Epoch 64/100\n",
      "7/7 [==============================] - 1s 90ms/step - loss: 0.0000e+00 - accuracy: 1.0000\n",
      "Epoch 65/100\n",
      "7/7 [==============================] - 1s 91ms/step - loss: 0.0000e+00 - accuracy: 1.0000\n",
      "Epoch 66/100\n",
      "7/7 [==============================] - 1s 90ms/step - loss: 0.0000e+00 - accuracy: 1.0000\n",
      "Epoch 67/100\n",
      "7/7 [==============================] - 1s 93ms/step - loss: 0.0000e+00 - accuracy: 1.0000\n",
      "Epoch 68/100\n",
      "7/7 [==============================] - 1s 89ms/step - loss: 0.0000e+00 - accuracy: 1.0000\n",
      "Epoch 69/100\n",
      "7/7 [==============================] - 1s 92ms/step - loss: 0.0000e+00 - accuracy: 1.0000\n",
      "Epoch 70/100\n",
      "7/7 [==============================] - 1s 90ms/step - loss: 0.0000e+00 - accuracy: 1.0000\n",
      "Epoch 71/100\n",
      "7/7 [==============================] - 1s 92ms/step - loss: 0.0000e+00 - accuracy: 1.0000\n",
      "Epoch 72/100\n",
      "7/7 [==============================] - 1s 92ms/step - loss: 0.0000e+00 - accuracy: 1.0000\n",
      "Epoch 73/100\n",
      "7/7 [==============================] - 1s 90ms/step - loss: 0.0000e+00 - accuracy: 1.0000\n",
      "Epoch 74/100\n",
      "7/7 [==============================] - 1s 90ms/step - loss: 0.0000e+00 - accuracy: 1.0000\n",
      "Epoch 75/100\n"
     ]
    },
    {
     "name": "stdout",
     "output_type": "stream",
     "text": [
      "7/7 [==============================] - 1s 94ms/step - loss: 0.0000e+00 - accuracy: 1.0000\n",
      "Epoch 76/100\n",
      "7/7 [==============================] - 1s 94ms/step - loss: 0.0000e+00 - accuracy: 1.0000\n",
      "Epoch 77/100\n",
      "7/7 [==============================] - 1s 96ms/step - loss: 0.0000e+00 - accuracy: 1.0000\n",
      "Epoch 78/100\n",
      "7/7 [==============================] - 1s 92ms/step - loss: 0.0000e+00 - accuracy: 1.0000\n",
      "Epoch 79/100\n",
      "7/7 [==============================] - 1s 90ms/step - loss: 0.0000e+00 - accuracy: 1.0000\n",
      "Epoch 80/100\n",
      "7/7 [==============================] - 1s 94ms/step - loss: 0.0000e+00 - accuracy: 1.0000\n",
      "Epoch 81/100\n",
      "7/7 [==============================] - 1s 95ms/step - loss: 0.0000e+00 - accuracy: 1.0000\n",
      "Epoch 82/100\n",
      "7/7 [==============================] - 1s 92ms/step - loss: 0.0000e+00 - accuracy: 1.0000\n",
      "Epoch 83/100\n",
      "7/7 [==============================] - 1s 94ms/step - loss: 0.0000e+00 - accuracy: 1.0000\n",
      "Epoch 84/100\n",
      "7/7 [==============================] - 1s 94ms/step - loss: 0.0000e+00 - accuracy: 1.0000\n",
      "Epoch 85/100\n",
      "7/7 [==============================] - 1s 93ms/step - loss: 0.0000e+00 - accuracy: 1.0000\n",
      "Epoch 86/100\n",
      "7/7 [==============================] - 1s 93ms/step - loss: 0.0000e+00 - accuracy: 1.0000\n",
      "Epoch 87/100\n",
      "7/7 [==============================] - 1s 91ms/step - loss: 0.0000e+00 - accuracy: 1.0000\n",
      "Epoch 88/100\n",
      "7/7 [==============================] - 1s 91ms/step - loss: 0.0000e+00 - accuracy: 1.0000\n",
      "Epoch 89/100\n",
      "7/7 [==============================] - 1s 93ms/step - loss: 0.0000e+00 - accuracy: 1.0000\n",
      "Epoch 90/100\n",
      "7/7 [==============================] - 1s 90ms/step - loss: 0.0000e+00 - accuracy: 1.0000\n",
      "Epoch 91/100\n",
      "7/7 [==============================] - 1s 93ms/step - loss: 0.0000e+00 - accuracy: 1.0000\n",
      "Epoch 92/100\n",
      "7/7 [==============================] - 1s 93ms/step - loss: 0.0000e+00 - accuracy: 1.0000\n",
      "Epoch 93/100\n",
      "7/7 [==============================] - 1s 96ms/step - loss: 0.0000e+00 - accuracy: 1.0000\n",
      "Epoch 94/100\n",
      "7/7 [==============================] - 1s 93ms/step - loss: 0.0000e+00 - accuracy: 1.0000\n",
      "Epoch 95/100\n",
      "7/7 [==============================] - 1s 93ms/step - loss: 0.0000e+00 - accuracy: 1.0000\n",
      "Epoch 96/100\n",
      "7/7 [==============================] - 1s 94ms/step - loss: 0.0000e+00 - accuracy: 1.0000\n",
      "Epoch 97/100\n",
      "7/7 [==============================] - 1s 93ms/step - loss: 0.0000e+00 - accuracy: 1.0000\n",
      "Epoch 98/100\n",
      "7/7 [==============================] - 1s 92ms/step - loss: 0.0000e+00 - accuracy: 1.0000\n",
      "Epoch 99/100\n",
      "7/7 [==============================] - 1s 90ms/step - loss: 0.0000e+00 - accuracy: 1.0000\n",
      "Epoch 100/100\n",
      "7/7 [==============================] - 1s 94ms/step - loss: 0.0000e+00 - accuracy: 1.0000\n"
     ]
    },
    {
     "data": {
      "text/plain": [
       "<keras.src.callbacks.History at 0x2360a80a2c0>"
      ]
     },
     "execution_count": 11,
     "metadata": {},
     "output_type": "execute_result"
    }
   ],
   "source": [
    "model = keras.Sequential([\n",
    "    keras.layers.Flatten(input_shape=(64,64)),\n",
    "    keras.layers.Dense(1024, activation='relu'),\n",
    "    keras.layers.Dense(512, activation='relu'),\n",
    "    keras.layers.Dense(9, activation='softmax')\n",
    "])\n",
    "opt = keras.optimizers.Adam(learning_rate=0.0001,beta_1=0.001\n",
    "                           )\n",
    "model.compile(optimizer=opt,\n",
    "              loss='sparse_categorical_crossentropy',\n",
    "              metrics=['accuracy'])\n",
    "\n",
    "model.fit(X, Y, epochs=100)  "
   ]
  },
  {
   "cell_type": "code",
   "execution_count": 12,
   "metadata": {},
   "outputs": [
    {
     "name": "stdout",
     "output_type": "stream",
     "text": [
      "7/7 [==============================] - 0s 5ms/step - loss: 0.0000e+00 - accuracy: 1.0000\n"
     ]
    },
    {
     "data": {
      "text/plain": [
       "[0.0, 1.0]"
      ]
     },
     "execution_count": 12,
     "metadata": {},
     "output_type": "execute_result"
    }
   ],
   "source": [
    "model.evaluate(X, Y)"
   ]
  },
  {
   "cell_type": "code",
   "execution_count": null,
   "metadata": {},
   "outputs": [],
   "source": []
  },
  {
   "cell_type": "code",
   "execution_count": 13,
   "metadata": {
    "scrolled": true
   },
   "outputs": [
    {
     "name": "stdout",
     "output_type": "stream",
     "text": [
      "WARNING:tensorflow:From C:\\Python310\\lib\\site-packages\\keras\\src\\layers\\pooling\\max_pooling2d.py:161: The name tf.nn.max_pool is deprecated. Please use tf.nn.max_pool2d instead.\n",
      "\n",
      "Epoch 1/100\n",
      "7/7 [==============================] - 1s 70ms/step - loss: 2.1387 - accuracy: 0.2443\n",
      "Epoch 2/100\n",
      "7/7 [==============================] - 0s 71ms/step - loss: 1.6181 - accuracy: 0.4525\n",
      "Epoch 3/100\n",
      "7/7 [==============================] - 1s 72ms/step - loss: 1.2568 - accuracy: 0.6425\n",
      "Epoch 4/100\n",
      "7/7 [==============================] - 1s 71ms/step - loss: 1.1056 - accuracy: 0.7059\n",
      "Epoch 5/100\n",
      "7/7 [==============================] - 0s 70ms/step - loss: 0.9046 - accuracy: 0.8054\n",
      "Epoch 6/100\n",
      "7/7 [==============================] - 0s 70ms/step - loss: 0.7905 - accuracy: 0.8462\n",
      "Epoch 7/100\n",
      "7/7 [==============================] - 1s 73ms/step - loss: 0.6011 - accuracy: 0.9367\n",
      "Epoch 8/100\n",
      "7/7 [==============================] - 0s 70ms/step - loss: 0.4705 - accuracy: 0.9683\n",
      "Epoch 9/100\n",
      "7/7 [==============================] - 0s 72ms/step - loss: 0.3462 - accuracy: 1.0000\n",
      "Epoch 10/100\n",
      "7/7 [==============================] - 1s 72ms/step - loss: 0.2630 - accuracy: 1.0000\n",
      "Epoch 11/100\n",
      "7/7 [==============================] - 0s 70ms/step - loss: 0.2017 - accuracy: 1.0000\n",
      "Epoch 12/100\n",
      "7/7 [==============================] - 0s 72ms/step - loss: 0.1557 - accuracy: 1.0000\n",
      "Epoch 13/100\n",
      "7/7 [==============================] - 1s 71ms/step - loss: 0.1306 - accuracy: 1.0000\n",
      "Epoch 14/100\n",
      "7/7 [==============================] - 1s 72ms/step - loss: 0.1048 - accuracy: 1.0000\n",
      "Epoch 15/100\n",
      "7/7 [==============================] - 0s 69ms/step - loss: 0.0894 - accuracy: 1.0000\n",
      "Epoch 16/100\n",
      "7/7 [==============================] - 0s 71ms/step - loss: 0.0797 - accuracy: 1.0000\n",
      "Epoch 17/100\n",
      "7/7 [==============================] - 0s 70ms/step - loss: 0.0706 - accuracy: 1.0000\n",
      "Epoch 18/100\n",
      "7/7 [==============================] - 1s 76ms/step - loss: 0.0624 - accuracy: 1.0000\n",
      "Epoch 19/100\n",
      "7/7 [==============================] - 1s 73ms/step - loss: 0.0570 - accuracy: 1.0000\n",
      "Epoch 20/100\n",
      "7/7 [==============================] - 1s 74ms/step - loss: 0.0532 - accuracy: 1.0000\n",
      "Epoch 21/100\n",
      "7/7 [==============================] - 1s 71ms/step - loss: 0.0493 - accuracy: 1.0000\n",
      "Epoch 22/100\n",
      "7/7 [==============================] - 1s 75ms/step - loss: 0.0446 - accuracy: 1.0000\n",
      "Epoch 23/100\n",
      "7/7 [==============================] - 0s 70ms/step - loss: 0.0415 - accuracy: 1.0000\n",
      "Epoch 24/100\n",
      "7/7 [==============================] - 1s 71ms/step - loss: 0.0387 - accuracy: 1.0000\n",
      "Epoch 25/100\n",
      "7/7 [==============================] - 0s 71ms/step - loss: 0.0360 - accuracy: 1.0000\n",
      "Epoch 26/100\n",
      "7/7 [==============================] - 0s 72ms/step - loss: 0.0339 - accuracy: 1.0000\n",
      "Epoch 27/100\n",
      "7/7 [==============================] - 1s 70ms/step - loss: 0.0317 - accuracy: 1.0000\n",
      "Epoch 28/100\n",
      "7/7 [==============================] - 0s 70ms/step - loss: 0.0300 - accuracy: 1.0000\n",
      "Epoch 29/100\n",
      "7/7 [==============================] - 1s 71ms/step - loss: 0.0283 - accuracy: 1.0000\n",
      "Epoch 30/100\n",
      "7/7 [==============================] - 0s 71ms/step - loss: 0.0271 - accuracy: 1.0000\n",
      "Epoch 31/100\n",
      "7/7 [==============================] - 0s 70ms/step - loss: 0.0257 - accuracy: 1.0000\n",
      "Epoch 32/100\n",
      "7/7 [==============================] - 1s 71ms/step - loss: 0.0245 - accuracy: 1.0000\n",
      "Epoch 33/100\n",
      "7/7 [==============================] - 0s 71ms/step - loss: 0.0234 - accuracy: 1.0000\n",
      "Epoch 34/100\n",
      "7/7 [==============================] - 1s 72ms/step - loss: 0.0223 - accuracy: 1.0000\n",
      "Epoch 35/100\n",
      "7/7 [==============================] - 0s 68ms/step - loss: 0.0214 - accuracy: 1.0000\n",
      "Epoch 36/100\n",
      "7/7 [==============================] - 1s 73ms/step - loss: 0.0206 - accuracy: 1.0000\n",
      "Epoch 37/100\n",
      "7/7 [==============================] - 0s 68ms/step - loss: 0.0197 - accuracy: 1.0000\n",
      "Epoch 38/100\n",
      "7/7 [==============================] - 1s 73ms/step - loss: 0.0189 - accuracy: 1.0000\n",
      "Epoch 39/100\n",
      "7/7 [==============================] - 0s 69ms/step - loss: 0.0182 - accuracy: 1.0000\n",
      "Epoch 40/100\n",
      "7/7 [==============================] - 0s 69ms/step - loss: 0.0175 - accuracy: 1.0000\n",
      "Epoch 41/100\n",
      "7/7 [==============================] - 1s 72ms/step - loss: 0.0169 - accuracy: 1.0000\n",
      "Epoch 42/100\n",
      "7/7 [==============================] - 1s 70ms/step - loss: 0.0162 - accuracy: 1.0000\n",
      "Epoch 43/100\n",
      "7/7 [==============================] - 1s 78ms/step - loss: 0.0157 - accuracy: 1.0000\n",
      "Epoch 44/100\n",
      "7/7 [==============================] - 1s 79ms/step - loss: 0.0151 - accuracy: 1.0000\n",
      "Epoch 45/100\n",
      "7/7 [==============================] - 1s 74ms/step - loss: 0.0146 - accuracy: 1.0000\n",
      "Epoch 46/100\n",
      "7/7 [==============================] - 1s 88ms/step - loss: 0.0142 - accuracy: 1.0000\n",
      "Epoch 47/100\n",
      "7/7 [==============================] - 1s 89ms/step - loss: 0.0137 - accuracy: 1.0000\n",
      "Epoch 48/100\n",
      "7/7 [==============================] - 1s 76ms/step - loss: 0.0133 - accuracy: 1.0000\n",
      "Epoch 49/100\n",
      "7/7 [==============================] - 1s 72ms/step - loss: 0.0129 - accuracy: 1.0000\n",
      "Epoch 50/100\n",
      "7/7 [==============================] - 0s 69ms/step - loss: 0.0125 - accuracy: 1.0000\n",
      "Epoch 51/100\n",
      "7/7 [==============================] - 1s 74ms/step - loss: 0.0121 - accuracy: 1.0000\n",
      "Epoch 52/100\n",
      "7/7 [==============================] - 0s 69ms/step - loss: 0.0117 - accuracy: 1.0000\n",
      "Epoch 53/100\n",
      "7/7 [==============================] - 0s 69ms/step - loss: 0.0114 - accuracy: 1.0000\n",
      "Epoch 54/100\n",
      "7/7 [==============================] - 0s 71ms/step - loss: 0.0110 - accuracy: 1.0000\n",
      "Epoch 55/100\n",
      "7/7 [==============================] - 0s 69ms/step - loss: 0.0107 - accuracy: 1.0000\n",
      "Epoch 56/100\n",
      "7/7 [==============================] - 0s 69ms/step - loss: 0.0104 - accuracy: 1.0000\n",
      "Epoch 57/100\n",
      "7/7 [==============================] - 0s 71ms/step - loss: 0.0101 - accuracy: 1.0000\n",
      "Epoch 58/100\n",
      "7/7 [==============================] - 0s 71ms/step - loss: 0.0098 - accuracy: 1.0000\n",
      "Epoch 59/100\n",
      "7/7 [==============================] - 1s 77ms/step - loss: 0.0095 - accuracy: 1.0000\n",
      "Epoch 60/100\n",
      "7/7 [==============================] - 0s 70ms/step - loss: 0.0092 - accuracy: 1.0000\n",
      "Epoch 61/100\n",
      "7/7 [==============================] - 0s 72ms/step - loss: 0.0089 - accuracy: 1.0000\n",
      "Epoch 62/100\n",
      "7/7 [==============================] - 1s 72ms/step - loss: 0.0087 - accuracy: 1.0000\n",
      "Epoch 63/100\n",
      "7/7 [==============================] - 1s 73ms/step - loss: 0.0084 - accuracy: 1.0000\n",
      "Epoch 64/100\n",
      "7/7 [==============================] - 1s 88ms/step - loss: 0.0082 - accuracy: 1.0000\n",
      "Epoch 65/100\n",
      "7/7 [==============================] - 1s 75ms/step - loss: 0.0079 - accuracy: 1.0000\n",
      "Epoch 66/100\n",
      "7/7 [==============================] - 1s 71ms/step - loss: 0.0077 - accuracy: 1.0000\n",
      "Epoch 67/100\n",
      "7/7 [==============================] - 1s 81ms/step - loss: 0.0074 - accuracy: 1.0000\n",
      "Epoch 68/100\n",
      "7/7 [==============================] - 1s 94ms/step - loss: 0.0072 - accuracy: 1.0000\n",
      "Epoch 69/100\n",
      "7/7 [==============================] - 1s 74ms/step - loss: 0.0070 - accuracy: 1.0000\n",
      "Epoch 70/100\n",
      "7/7 [==============================] - 1s 73ms/step - loss: 0.0068 - accuracy: 1.0000\n",
      "Epoch 71/100\n",
      "7/7 [==============================] - 1s 80ms/step - loss: 0.0066 - accuracy: 1.0000\n",
      "Epoch 72/100\n",
      "7/7 [==============================] - 1s 74ms/step - loss: 0.0064 - accuracy: 1.0000\n",
      "Epoch 73/100\n",
      "7/7 [==============================] - 1s 74ms/step - loss: 0.0062 - accuracy: 1.0000\n",
      "Epoch 74/100\n",
      "7/7 [==============================] - 1s 83ms/step - loss: 0.0060 - accuracy: 1.0000\n",
      "Epoch 75/100\n",
      "7/7 [==============================] - 1s 73ms/step - loss: 0.0058 - accuracy: 1.0000\n",
      "Epoch 76/100\n",
      "7/7 [==============================] - 1s 79ms/step - loss: 0.0056 - accuracy: 1.0000\n",
      "Epoch 77/100\n",
      "7/7 [==============================] - 1s 80ms/step - loss: 0.0054 - accuracy: 1.0000\n",
      "Epoch 78/100\n",
      "7/7 [==============================] - 1s 78ms/step - loss: 0.0053 - accuracy: 1.0000\n",
      "Epoch 79/100\n",
      "7/7 [==============================] - 1s 73ms/step - loss: 0.0051 - accuracy: 1.0000\n",
      "Epoch 80/100\n",
      "7/7 [==============================] - 0s 72ms/step - loss: 0.0049 - accuracy: 1.0000\n",
      "Epoch 81/100\n",
      "7/7 [==============================] - 1s 73ms/step - loss: 0.0048 - accuracy: 1.0000\n",
      "Epoch 82/100\n"
     ]
    },
    {
     "name": "stdout",
     "output_type": "stream",
     "text": [
      "7/7 [==============================] - 1s 79ms/step - loss: 0.0046 - accuracy: 1.0000\n",
      "Epoch 83/100\n",
      "7/7 [==============================] - 1s 83ms/step - loss: 0.0045 - accuracy: 1.0000\n",
      "Epoch 84/100\n",
      "7/7 [==============================] - 1s 77ms/step - loss: 0.0043 - accuracy: 1.0000\n",
      "Epoch 85/100\n",
      "7/7 [==============================] - 1s 81ms/step - loss: 0.0042 - accuracy: 1.0000\n",
      "Epoch 86/100\n",
      "7/7 [==============================] - 1s 90ms/step - loss: 0.0040 - accuracy: 1.0000\n",
      "Epoch 87/100\n",
      "7/7 [==============================] - 1s 74ms/step - loss: 0.0039 - accuracy: 1.0000\n",
      "Epoch 88/100\n",
      "7/7 [==============================] - 1s 80ms/step - loss: 0.0037 - accuracy: 1.0000\n",
      "Epoch 89/100\n",
      "7/7 [==============================] - 1s 71ms/step - loss: 0.0036 - accuracy: 1.0000\n",
      "Epoch 90/100\n",
      "7/7 [==============================] - 1s 81ms/step - loss: 0.0035 - accuracy: 1.0000\n",
      "Epoch 91/100\n",
      "7/7 [==============================] - 1s 82ms/step - loss: 0.0034 - accuracy: 1.0000\n",
      "Epoch 92/100\n",
      "7/7 [==============================] - 1s 82ms/step - loss: 0.0032 - accuracy: 1.0000\n",
      "Epoch 93/100\n",
      "7/7 [==============================] - 1s 79ms/step - loss: 0.0031 - accuracy: 1.0000\n",
      "Epoch 94/100\n",
      "7/7 [==============================] - 1s 79ms/step - loss: 0.0030 - accuracy: 1.0000\n",
      "Epoch 95/100\n",
      "7/7 [==============================] - 1s 81ms/step - loss: 0.0029 - accuracy: 1.0000\n",
      "Epoch 96/100\n",
      "7/7 [==============================] - 1s 79ms/step - loss: 0.0028 - accuracy: 1.0000\n",
      "Epoch 97/100\n",
      "7/7 [==============================] - 1s 83ms/step - loss: 0.0027 - accuracy: 1.0000\n",
      "Epoch 98/100\n",
      "7/7 [==============================] - 1s 83ms/step - loss: 0.0026 - accuracy: 1.0000\n",
      "Epoch 99/100\n",
      "7/7 [==============================] - 1s 78ms/step - loss: 0.0026 - accuracy: 1.0000\n",
      "Epoch 100/100\n",
      "7/7 [==============================] - 1s 79ms/step - loss: 0.0025 - accuracy: 1.0000\n"
     ]
    },
    {
     "data": {
      "text/plain": [
       "<keras.src.callbacks.History at 0x23614f55ea0>"
      ]
     },
     "execution_count": 13,
     "metadata": {},
     "output_type": "execute_result"
    }
   ],
   "source": [
    "model_cnn = keras.Sequential([\n",
    "    keras.layers.Conv2D(input_shape=(64,64,1) ,filters=12, kernel_size=(3,3), activation='relu'),\n",
    "    keras.layers.MaxPool2D((2,2)),\n",
    "    \n",
    "    keras.layers.Conv2D(filters= 12, kernel_size=(3,3), activation='relu'),\n",
    "    keras.layers.MaxPool2D((2,2)),\n",
    "    \n",
    "    keras.layers.Flatten(),\n",
    "    keras.layers.Dense(1024, activation='tanh'),\n",
    "    keras.layers.Dense(256, activation='tanh'),\n",
    "    keras.layers.Dense(9, activation='softmax')\n",
    "])\n",
    "opt = keras.optimizers.Adam(learning_rate=0.0001,beta_1=0.001)\n",
    "model_cnn.compile(optimizer=opt,\n",
    "              loss='sparse_categorical_crossentropy',\n",
    "              metrics=['accuracy'])\n",
    "\n",
    "model_cnn.fit(X, Y, epochs=100) "
   ]
  },
  {
   "cell_type": "code",
   "execution_count": 14,
   "metadata": {},
   "outputs": [
    {
     "name": "stdout",
     "output_type": "stream",
     "text": [
      "7/7 [==============================] - 0s 14ms/step - loss: 0.0024 - accuracy: 1.0000\n"
     ]
    },
    {
     "data": {
      "text/plain": [
       "[0.002417268231511116, 1.0]"
      ]
     },
     "execution_count": 14,
     "metadata": {},
     "output_type": "execute_result"
    }
   ],
   "source": [
    "model_cnn.evaluate(X, Y)"
   ]
  },
  {
   "cell_type": "code",
   "execution_count": null,
   "metadata": {},
   "outputs": [],
   "source": []
  },
  {
   "cell_type": "code",
   "execution_count": 15,
   "metadata": {},
   "outputs": [
    {
     "data": {
      "text/plain": [
       "(221, 64, 64)"
      ]
     },
     "execution_count": 15,
     "metadata": {},
     "output_type": "execute_result"
    }
   ],
   "source": [
    "X.shape"
   ]
  },
  {
   "cell_type": "code",
   "execution_count": 16,
   "metadata": {},
   "outputs": [],
   "source": [
    "input = X[0]\n",
    "input = input.reshape(1,64,64)"
   ]
  },
  {
   "cell_type": "code",
   "execution_count": 17,
   "metadata": {},
   "outputs": [
    {
     "name": "stdout",
     "output_type": "stream",
     "text": [
      "1/1 [==============================] - 0s 95ms/step\n"
     ]
    }
   ],
   "source": [
    "res = model.predict(input)"
   ]
  },
  {
   "cell_type": "code",
   "execution_count": 18,
   "metadata": {},
   "outputs": [
    {
     "data": {
      "text/plain": [
       "array([1.0000000e+00, 0.0000000e+00, 0.0000000e+00, 0.0000000e+00,\n",
       "       0.0000000e+00, 0.0000000e+00, 2.8347633e-29, 1.6466445e-26,\n",
       "       0.0000000e+00], dtype=float32)"
      ]
     },
     "execution_count": 18,
     "metadata": {},
     "output_type": "execute_result"
    }
   ],
   "source": [
    "res[0]"
   ]
  },
  {
   "cell_type": "code",
   "execution_count": 19,
   "metadata": {},
   "outputs": [
    {
     "data": {
      "text/plain": [
       "0"
      ]
     },
     "execution_count": 19,
     "metadata": {},
     "output_type": "execute_result"
    }
   ],
   "source": [
    "np.argmax(res[0])"
   ]
  },
  {
   "cell_type": "code",
   "execution_count": 20,
   "metadata": {},
   "outputs": [
    {
     "data": {
      "text/plain": [
       "[100.0, 0.0, 0.0, 0.0, 0.0, 0.0, 0.0, 0.0, 0.0]"
      ]
     },
     "execution_count": 20,
     "metadata": {},
     "output_type": "execute_result"
    }
   ],
   "source": [
    "np.around((res[0]*100),2).tolist()"
   ]
  },
  {
   "cell_type": "code",
   "execution_count": 21,
   "metadata": {},
   "outputs": [
    {
     "data": {
      "text/plain": [
       "(1, 64, 64)"
      ]
     },
     "execution_count": 21,
     "metadata": {},
     "output_type": "execute_result"
    }
   ],
   "source": [
    "input = X[114].reshape(1,64,64)\n",
    "input.shape"
   ]
  },
  {
   "cell_type": "code",
   "execution_count": 22,
   "metadata": {},
   "outputs": [
    {
     "name": "stdout",
     "output_type": "stream",
     "text": [
      "1/1 [==============================] - 0s 104ms/step\n"
     ]
    },
    {
     "data": {
      "text/plain": [
       "[0.02126777358353138,\n",
       " 0.07815002650022507,\n",
       " 0.060996949672698975,\n",
       " 0.024056149646639824,\n",
       " 0.0038502609822899103,\n",
       " 99.60917663574219,\n",
       " 0.031560566276311874,\n",
       " 0.12149789929389954,\n",
       " 0.04944387450814247]"
      ]
     },
     "execution_count": 22,
     "metadata": {},
     "output_type": "execute_result"
    }
   ],
   "source": [
    "(model_cnn.predict(input)*100)[0].tolist()"
   ]
  },
  {
   "cell_type": "code",
   "execution_count": 23,
   "metadata": {},
   "outputs": [
    {
     "name": "stdout",
     "output_type": "stream",
     "text": [
      "1/1 [==============================] - 0s 31ms/step\n"
     ]
    },
    {
     "data": {
      "text/plain": [
       "5"
      ]
     },
     "execution_count": 23,
     "metadata": {},
     "output_type": "execute_result"
    }
   ],
   "source": [
    "np.argmax(model.predict(input)[0])"
   ]
  },
  {
   "cell_type": "code",
   "execution_count": 24,
   "metadata": {},
   "outputs": [
    {
     "data": {
      "text/plain": [
       "{'ben_afflek': 0,\n",
       " 'jerry_seinfeld': 1,\n",
       " 'lionel_messi': 2,\n",
       " 'madonna': 3,\n",
       " 'maria_sharapova': 4,\n",
       " 'mindy_kaling': 5,\n",
       " 'roger_federer': 6,\n",
       " 'serena_williams': 7,\n",
       " 'virat_kohli': 8}"
      ]
     },
     "execution_count": 24,
     "metadata": {},
     "output_type": "execute_result"
    }
   ],
   "source": [
    "encode_celeb"
   ]
  },
  {
   "cell_type": "code",
   "execution_count": null,
   "metadata": {},
   "outputs": [],
   "source": []
  },
  {
   "cell_type": "code",
   "execution_count": null,
   "metadata": {},
   "outputs": [],
   "source": []
  }
 ],
 "metadata": {
  "kernelspec": {
   "display_name": "Python 3 (ipykernel)",
   "language": "python",
   "name": "python3"
  },
  "language_info": {
   "codemirror_mode": {
    "name": "ipython",
    "version": 3
   },
   "file_extension": ".py",
   "mimetype": "text/x-python",
   "name": "python",
   "nbconvert_exporter": "python",
   "pygments_lexer": "ipython3",
   "version": "3.10.5"
  },
  "vscode": {
   "interpreter": {
    "hash": "c4ed460cfcc7e2c9e821aba7a20622d20c3464e7c33cc2771b0e6335ddeb7e1f"
   }
  }
 },
 "nbformat": 4,
 "nbformat_minor": 2
}
